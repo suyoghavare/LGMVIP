{
 "cells": [
  {
   "cell_type": "markdown",
   "id": "abe5a2e9",
   "metadata": {},
   "source": [
    "# Lets Grow More \n",
    "Suyog Havare - Data Science Intern\n",
    "\n",
    "Task-2  Stock Market Prediction and Forecasting using Stacked LSTM\n",
    "\n",
    "Link for the dataset: https://raw.githubusercontent.com/mwitiderrick/stockprice/master/NSE-TATAGLOBAL.csv"
   ]
  },
  {
   "cell_type": "code",
   "execution_count": 18,
   "id": "c6669f1f",
   "metadata": {},
   "outputs": [
    {
     "name": "stdout",
     "output_type": "stream",
     "text": [
      "Requirement already satisfied: sklearn in c:\\users\\hp\\python310\\lib\\site-packages (0.0)\n",
      "Requirement already satisfied: scikit-learn in c:\\users\\hp\\python310\\lib\\site-packages (from sklearn) (1.1.3)\n",
      "Requirement already satisfied: numpy>=1.17.3 in c:\\users\\hp\\python310\\lib\\site-packages (from scikit-learn->sklearn) (1.23.5)\n",
      "Requirement already satisfied: scipy>=1.3.2 in c:\\users\\hp\\python310\\lib\\site-packages (from scikit-learn->sklearn) (1.9.3)\n",
      "Requirement already satisfied: joblib>=1.0.0 in c:\\users\\hp\\python310\\lib\\site-packages (from scikit-learn->sklearn) (1.2.0)\n",
      "Requirement already satisfied: threadpoolctl>=2.0.0 in c:\\users\\hp\\python310\\lib\\site-packages (from scikit-learn->sklearn) (3.1.0)\n",
      "Note: you may need to restart the kernel to use updated packages.\n"
     ]
    }
   ],
   "source": [
    "pip install sklearn"
   ]
  },
  {
   "cell_type": "markdown",
   "id": "82d9458a",
   "metadata": {},
   "source": [
    "# Importing the Libraries"
   ]
  },
  {
   "cell_type": "code",
   "execution_count": 17,
   "id": "64bca2e0",
   "metadata": {},
   "outputs": [],
   "source": [
    "import numpy as np"
   ]
  },
  {
   "cell_type": "code",
   "execution_count": 1,
   "id": "78d76c08",
   "metadata": {},
   "outputs": [],
   "source": [
    "import pandas as pd\n"
   ]
  },
  {
   "cell_type": "markdown",
   "id": "80ba9b6f",
   "metadata": {},
   "source": [
    "# Loading the dataset"
   ]
  },
  {
   "cell_type": "code",
   "execution_count": 2,
   "id": "bbbdbe62",
   "metadata": {},
   "outputs": [],
   "source": [
    "df=pd.read_csv(r\"C:\\Users\\HP\\Downloads\\NSE-TATAGLOBAL.csv\")"
   ]
  },
  {
   "cell_type": "markdown",
   "id": "4307637d",
   "metadata": {},
   "source": [
    "# Displaying the first five rows of the dataset"
   ]
  },
  {
   "cell_type": "code",
   "execution_count": 3,
   "id": "42295210",
   "metadata": {},
   "outputs": [
    {
     "data": {
      "text/html": [
       "<div>\n",
       "<style scoped>\n",
       "    .dataframe tbody tr th:only-of-type {\n",
       "        vertical-align: middle;\n",
       "    }\n",
       "\n",
       "    .dataframe tbody tr th {\n",
       "        vertical-align: top;\n",
       "    }\n",
       "\n",
       "    .dataframe thead th {\n",
       "        text-align: right;\n",
       "    }\n",
       "</style>\n",
       "<table border=\"1\" class=\"dataframe\">\n",
       "  <thead>\n",
       "    <tr style=\"text-align: right;\">\n",
       "      <th></th>\n",
       "      <th>Date</th>\n",
       "      <th>Open</th>\n",
       "      <th>High</th>\n",
       "      <th>Low</th>\n",
       "      <th>Last</th>\n",
       "      <th>Close</th>\n",
       "      <th>Total Trade Quantity</th>\n",
       "      <th>Turnover (Lacs)</th>\n",
       "    </tr>\n",
       "  </thead>\n",
       "  <tbody>\n",
       "    <tr>\n",
       "      <th>0</th>\n",
       "      <td>2018-09-28</td>\n",
       "      <td>234.05</td>\n",
       "      <td>235.95</td>\n",
       "      <td>230.20</td>\n",
       "      <td>233.50</td>\n",
       "      <td>233.75</td>\n",
       "      <td>3069914</td>\n",
       "      <td>7162.35</td>\n",
       "    </tr>\n",
       "    <tr>\n",
       "      <th>1</th>\n",
       "      <td>2018-09-27</td>\n",
       "      <td>234.55</td>\n",
       "      <td>236.80</td>\n",
       "      <td>231.10</td>\n",
       "      <td>233.80</td>\n",
       "      <td>233.25</td>\n",
       "      <td>5082859</td>\n",
       "      <td>11859.95</td>\n",
       "    </tr>\n",
       "    <tr>\n",
       "      <th>2</th>\n",
       "      <td>2018-09-26</td>\n",
       "      <td>240.00</td>\n",
       "      <td>240.00</td>\n",
       "      <td>232.50</td>\n",
       "      <td>235.00</td>\n",
       "      <td>234.25</td>\n",
       "      <td>2240909</td>\n",
       "      <td>5248.60</td>\n",
       "    </tr>\n",
       "    <tr>\n",
       "      <th>3</th>\n",
       "      <td>2018-09-25</td>\n",
       "      <td>233.30</td>\n",
       "      <td>236.75</td>\n",
       "      <td>232.00</td>\n",
       "      <td>236.25</td>\n",
       "      <td>236.10</td>\n",
       "      <td>2349368</td>\n",
       "      <td>5503.90</td>\n",
       "    </tr>\n",
       "    <tr>\n",
       "      <th>4</th>\n",
       "      <td>2018-09-24</td>\n",
       "      <td>233.55</td>\n",
       "      <td>239.20</td>\n",
       "      <td>230.75</td>\n",
       "      <td>234.00</td>\n",
       "      <td>233.30</td>\n",
       "      <td>3423509</td>\n",
       "      <td>7999.55</td>\n",
       "    </tr>\n",
       "  </tbody>\n",
       "</table>\n",
       "</div>"
      ],
      "text/plain": [
       "         Date    Open    High     Low    Last   Close  Total Trade Quantity  \\\n",
       "0  2018-09-28  234.05  235.95  230.20  233.50  233.75               3069914   \n",
       "1  2018-09-27  234.55  236.80  231.10  233.80  233.25               5082859   \n",
       "2  2018-09-26  240.00  240.00  232.50  235.00  234.25               2240909   \n",
       "3  2018-09-25  233.30  236.75  232.00  236.25  236.10               2349368   \n",
       "4  2018-09-24  233.55  239.20  230.75  234.00  233.30               3423509   \n",
       "\n",
       "   Turnover (Lacs)  \n",
       "0          7162.35  \n",
       "1         11859.95  \n",
       "2          5248.60  \n",
       "3          5503.90  \n",
       "4          7999.55  "
      ]
     },
     "execution_count": 3,
     "metadata": {},
     "output_type": "execute_result"
    }
   ],
   "source": [
    "df.head()"
   ]
  },
  {
   "cell_type": "markdown",
   "id": "dde5f6fd",
   "metadata": {},
   "source": [
    "# Displaying the last five rows"
   ]
  },
  {
   "cell_type": "code",
   "execution_count": 12,
   "id": "e225faab",
   "metadata": {},
   "outputs": [
    {
     "data": {
      "text/html": [
       "<div>\n",
       "<style scoped>\n",
       "    .dataframe tbody tr th:only-of-type {\n",
       "        vertical-align: middle;\n",
       "    }\n",
       "\n",
       "    .dataframe tbody tr th {\n",
       "        vertical-align: top;\n",
       "    }\n",
       "\n",
       "    .dataframe thead th {\n",
       "        text-align: right;\n",
       "    }\n",
       "</style>\n",
       "<table border=\"1\" class=\"dataframe\">\n",
       "  <thead>\n",
       "    <tr style=\"text-align: right;\">\n",
       "      <th></th>\n",
       "      <th>Date</th>\n",
       "      <th>Open</th>\n",
       "      <th>High</th>\n",
       "      <th>Low</th>\n",
       "      <th>Last</th>\n",
       "      <th>Close</th>\n",
       "      <th>Total Trade Quantity</th>\n",
       "      <th>Turnover (Lacs)</th>\n",
       "    </tr>\n",
       "  </thead>\n",
       "  <tbody>\n",
       "    <tr>\n",
       "      <th>2030</th>\n",
       "      <td>2010-07-27</td>\n",
       "      <td>117.6</td>\n",
       "      <td>119.50</td>\n",
       "      <td>112.00</td>\n",
       "      <td>118.80</td>\n",
       "      <td>118.65</td>\n",
       "      <td>586100</td>\n",
       "      <td>694.98</td>\n",
       "    </tr>\n",
       "    <tr>\n",
       "      <th>2031</th>\n",
       "      <td>2010-07-26</td>\n",
       "      <td>120.1</td>\n",
       "      <td>121.00</td>\n",
       "      <td>117.10</td>\n",
       "      <td>117.10</td>\n",
       "      <td>117.60</td>\n",
       "      <td>658440</td>\n",
       "      <td>780.01</td>\n",
       "    </tr>\n",
       "    <tr>\n",
       "      <th>2032</th>\n",
       "      <td>2010-07-23</td>\n",
       "      <td>121.8</td>\n",
       "      <td>121.95</td>\n",
       "      <td>120.25</td>\n",
       "      <td>120.35</td>\n",
       "      <td>120.65</td>\n",
       "      <td>281312</td>\n",
       "      <td>340.31</td>\n",
       "    </tr>\n",
       "    <tr>\n",
       "      <th>2033</th>\n",
       "      <td>2010-07-22</td>\n",
       "      <td>120.3</td>\n",
       "      <td>122.00</td>\n",
       "      <td>120.25</td>\n",
       "      <td>120.75</td>\n",
       "      <td>120.90</td>\n",
       "      <td>293312</td>\n",
       "      <td>355.17</td>\n",
       "    </tr>\n",
       "    <tr>\n",
       "      <th>2034</th>\n",
       "      <td>2010-07-21</td>\n",
       "      <td>122.1</td>\n",
       "      <td>123.00</td>\n",
       "      <td>121.05</td>\n",
       "      <td>121.10</td>\n",
       "      <td>121.55</td>\n",
       "      <td>658666</td>\n",
       "      <td>803.56</td>\n",
       "    </tr>\n",
       "  </tbody>\n",
       "</table>\n",
       "</div>"
      ],
      "text/plain": [
       "            Date   Open    High     Low    Last   Close  Total Trade Quantity  \\\n",
       "2030  2010-07-27  117.6  119.50  112.00  118.80  118.65                586100   \n",
       "2031  2010-07-26  120.1  121.00  117.10  117.10  117.60                658440   \n",
       "2032  2010-07-23  121.8  121.95  120.25  120.35  120.65                281312   \n",
       "2033  2010-07-22  120.3  122.00  120.25  120.75  120.90                293312   \n",
       "2034  2010-07-21  122.1  123.00  121.05  121.10  121.55                658666   \n",
       "\n",
       "      Turnover (Lacs)  \n",
       "2030           694.98  \n",
       "2031           780.01  \n",
       "2032           340.31  \n",
       "2033           355.17  \n",
       "2034           803.56  "
      ]
     },
     "execution_count": 12,
     "metadata": {},
     "output_type": "execute_result"
    }
   ],
   "source": [
    "df.tail()"
   ]
  },
  {
   "cell_type": "markdown",
   "id": "cb2661aa",
   "metadata": {},
   "source": [
    "# Displaying information about the dataset"
   ]
  },
  {
   "cell_type": "code",
   "execution_count": 8,
   "id": "9bac5047",
   "metadata": {},
   "outputs": [
    {
     "data": {
      "text/plain": [
       "(2035, 8)"
      ]
     },
     "execution_count": 8,
     "metadata": {},
     "output_type": "execute_result"
    }
   ],
   "source": [
    "df.shape"
   ]
  },
  {
   "cell_type": "code",
   "execution_count": 13,
   "id": "028b1b34",
   "metadata": {},
   "outputs": [],
   "source": [
    "df1 = df.reset_index()['Close']"
   ]
  },
  {
   "cell_type": "code",
   "execution_count": 14,
   "id": "aaf06a9b",
   "metadata": {},
   "outputs": [
    {
     "data": {
      "text/plain": [
       "(2035,)"
      ]
     },
     "execution_count": 14,
     "metadata": {},
     "output_type": "execute_result"
    }
   ],
   "source": [
    "df1.shape"
   ]
  },
  {
   "cell_type": "code",
   "execution_count": 15,
   "id": "3a1847bd",
   "metadata": {},
   "outputs": [
    {
     "data": {
      "text/plain": [
       "0       233.75\n",
       "1       233.25\n",
       "2       234.25\n",
       "3       236.10\n",
       "4       233.30\n",
       "         ...  \n",
       "2030    118.65\n",
       "2031    117.60\n",
       "2032    120.65\n",
       "2033    120.90\n",
       "2034    121.55\n",
       "Name: Close, Length: 2035, dtype: float64"
      ]
     },
     "execution_count": 15,
     "metadata": {},
     "output_type": "execute_result"
    }
   ],
   "source": [
    "df1"
   ]
  },
  {
   "cell_type": "markdown",
   "id": "ee2e193c",
   "metadata": {},
   "source": [
    "# Plotting the graph "
   ]
  },
  {
   "cell_type": "code",
   "execution_count": 16,
   "id": "38aeb988",
   "metadata": {},
   "outputs": [
    {
     "data": {
      "text/plain": [
       "[<matplotlib.lines.Line2D at 0x1743e110310>]"
      ]
     },
     "execution_count": 16,
     "metadata": {},
     "output_type": "execute_result"
    },
    {
     "data": {
      "image/png": "[encoded data removed]",
      "text/plain": [
       "<Figure size 640x480 with 1 Axes>"
      ]
     },
     "metadata": {},
     "output_type": "display_data"
    }
   ],
   "source": [
    "import matplotlib.pyplot as plt \n",
    "plt.plot(df1)"
   ]
  },
  {
   "cell_type": "markdown",
   "id": "7dc1bca8",
   "metadata": {},
   "source": [
    "# Normalizing the Values"
   ]
  },
  {
   "cell_type": "code",
   "execution_count": 19,
   "id": "6b6c61f8",
   "metadata": {},
   "outputs": [],
   "source": [
    "from sklearn.preprocessing import MinMaxScaler\n",
    "scaler=MinMaxScaler(feature_range=(0,1))\n",
    "df1=scaler.fit_transform(np.array(df1).reshape(-1,1))"
   ]
  },
  {
   "cell_type": "code",
   "execution_count": 20,
   "id": "04214c6e",
   "metadata": {},
   "outputs": [
    {
     "data": {
      "text/plain": [
       "(2035, 1)"
      ]
     },
     "execution_count": 20,
     "metadata": {},
     "output_type": "execute_result"
    }
   ],
   "source": [
    "df1.shape"
   ]
  },
  {
   "cell_type": "markdown",
   "id": "e01836ec",
   "metadata": {},
   "source": [
    "# Splitting dataset into train and test split"
   ]
  },
  {
   "cell_type": "code",
   "execution_count": 28,
   "id": "181935c4",
   "metadata": {},
   "outputs": [],
   "source": [
    "training_size=int(len(df1)*0.65)\n",
    "test_size=len(df1)-training_size\n",
    "train_data,test_data=df1[0:training_size,:],df1[training_size:len(df1),:1]\n"
   ]
  },
  {
   "cell_type": "code",
   "execution_count": 29,
   "id": "10ac6c7a",
   "metadata": {},
   "outputs": [
    {
     "data": {
      "text/plain": [
       "(1322, 713)"
      ]
     },
     "execution_count": 29,
     "metadata": {},
     "output_type": "execute_result"
    }
   ],
   "source": [
    "training_size,test_size"
   ]
  },
  {
   "cell_type": "code",
   "execution_count": 30,
   "id": "f75966fb",
   "metadata": {},
   "outputs": [
    {
     "data": {
      "text/plain": [
       "array([[0.62418301],\n",
       "       [0.62214052],\n",
       "       [0.62622549],\n",
       "       ...,\n",
       "       [0.25347222],\n",
       "       [0.26041667],\n",
       "       [0.2563317 ]])"
      ]
     },
     "execution_count": 30,
     "metadata": {},
     "output_type": "execute_result"
    }
   ],
   "source": [
    "train_data"
   ]
  },
  {
   "cell_type": "markdown",
   "id": "6e9d64a0",
   "metadata": {},
   "source": [
    "# Convert an array of values into a dataset matrix"
   ]
  },
  {
   "cell_type": "code",
   "execution_count": 31,
   "id": "46152eb1",
   "metadata": {},
   "outputs": [],
   "source": [
    "def create_dataset(dataset, time_step=1):\n",
    "\tdataX, dataY = [], []\n",
    "\tfor i in range(len(dataset)-time_step-1):\n",
    "\t\ta = dataset[i:(i+time_step), 0]   ###i=0, 0,1,2,3-----99   100 \n",
    "\t\tdataX.append(a)\n",
    "\t\tdataY.append(dataset[i + time_step, 0])\n",
    "\treturn np.array(dataX), np.array(dataY)"
   ]
  },
  {
   "cell_type": "markdown",
   "id": "ed663ddc",
   "metadata": {},
   "source": [
    "# Reshape into X=t,t+1,t+2,t+3 and Y=t+4"
   ]
  },
  {
   "cell_type": "code",
   "execution_count": 32,
   "id": "3b728c9e",
   "metadata": {},
   "outputs": [],
   "source": [
    "time_step = 100\n",
    "X_train, y_train = create_dataset(train_data, time_step)\n",
    "X_test, ytest = create_dataset(test_data, time_step)\n"
   ]
  },
  {
   "cell_type": "code",
   "execution_count": 33,
   "id": "145c5e6f",
   "metadata": {},
   "outputs": [
    {
     "name": "stdout",
     "output_type": "stream",
     "text": [
      "(1221, 100)\n",
      "(1221,)\n"
     ]
    },
    {
     "data": {
      "text/plain": [
       "(None, None)"
      ]
     },
     "execution_count": 33,
     "metadata": {},
     "output_type": "execute_result"
    }
   ],
   "source": [
    "print(X_train.shape), print(y_train.shape)"
   ]
  },
  {
   "cell_type": "code",
   "execution_count": 34,
   "id": "99d3250f",
   "metadata": {},
   "outputs": [
    {
     "name": "stdout",
     "output_type": "stream",
     "text": [
      "(612, 100)\n",
      "(612,)\n"
     ]
    },
    {
     "data": {
      "text/plain": [
       "(None, None)"
      ]
     },
     "execution_count": 34,
     "metadata": {},
     "output_type": "execute_result"
    }
   ],
   "source": [
    "print(X_test.shape), print(ytest.shape)"
   ]
  },
  {
   "cell_type": "markdown",
   "id": "4dd2dda7",
   "metadata": {},
   "source": [
    "# Reshape input to be [samples, time steps, features] which is required for LSTM"
   ]
  },
  {
   "cell_type": "code",
   "execution_count": 35,
   "id": "967d6276",
   "metadata": {},
   "outputs": [],
   "source": [
    "\n",
    "X_train =X_train.reshape(X_train.shape[0],X_train.shape[1] , 1)\n",
    "X_test = X_test.reshape(X_test.shape[0],X_test.shape[1] , 1)\n"
   ]
  },
  {
   "cell_type": "markdown",
   "id": "597c1ca0",
   "metadata": {},
   "source": [
    "# Creating the Stacked LSTM model"
   ]
  },
  {
   "cell_type": "markdown",
   "id": "7dbe694a",
   "metadata": {},
   "source": [
    "from tensorflow.keras.models import Sequential\n",
    "from tensorflow.keras.layers import Dense\n",
    "from tensorflow.keras.layers import LSTM"
   ]
  },
  {
   "cell_type": "code",
   "execution_count": 46,
   "id": "35ee8a30",
   "metadata": {},
   "outputs": [],
   "source": [
    "model=Sequential()\n",
    "model.add(LSTM(50,return_sequences=True,input_shape=(100,1)))\n",
    "model.add(LSTM(50,return_sequences=True))\n",
    "model.add(LSTM(50))\n",
    "model.add(Dense(1))\n",
    "model.compile(loss='mean_squared_error',optimizer='adam')"
   ]
  },
  {
   "cell_type": "code",
   "execution_count": 47,
   "id": "3985bc80",
   "metadata": {},
   "outputs": [
    {
     "name": "stdout",
     "output_type": "stream",
     "text": [
      "Model: \"sequential\"\n",
      "_________________________________________________________________\n",
      " Layer (type)                Output Shape              Param #   \n",
      "=================================================================\n",
      " lstm (LSTM)                 (None, 100, 50)           10400     \n",
      "                                                                 \n",
      " lstm_1 (LSTM)               (None, 100, 50)           20200     \n",
      "                                                                 \n",
      " lstm_2 (LSTM)               (None, 50)                20200     \n",
      "                                                                 \n",
      " dense (Dense)               (None, 1)                 51        \n",
      "                                                                 \n",
      "=================================================================\n",
      "Total params: 50,851\n",
      "Trainable params: 50,851\n",
      "Non-trainable params: 0\n",
      "_________________________________________________________________\n"
     ]
    }
   ],
   "source": [
    "model.summary()\n"
   ]
  },
  {
   "cell_type": "code",
   "execution_count": 48,
   "id": "d1067af7",
   "metadata": {
    "scrolled": false
   },
   "outputs": [
    {
     "name": "stdout",
     "output_type": "stream",
     "text": [
      "Epoch 1/100\n",
      "20/20 [==============================] - 17s 323ms/step - loss: 0.0355 - val_loss: 0.0024\n",
      "Epoch 2/100\n",
      "20/20 [==============================] - 5s 230ms/step - loss: 0.0033 - val_loss: 9.2848e-04\n",
      "Epoch 3/100\n",
      "20/20 [==============================] - 5s 269ms/step - loss: 0.0015 - val_loss: 9.4657e-04\n",
      "Epoch 4/100\n",
      "20/20 [==============================] - 5s 241ms/step - loss: 0.0014 - val_loss: 9.9910e-04\n",
      "Epoch 5/100\n",
      "20/20 [==============================] - 5s 264ms/step - loss: 0.0013 - val_loss: 8.8822e-04\n",
      "Epoch 6/100\n",
      "20/20 [==============================] - 5s 271ms/step - loss: 0.0013 - val_loss: 0.0012\n",
      "Epoch 7/100\n",
      "20/20 [==============================] - 6s 303ms/step - loss: 0.0013 - val_loss: 0.0011\n",
      "Epoch 8/100\n",
      "20/20 [==============================] - 6s 317ms/step - loss: 0.0012 - val_loss: 0.0010\n",
      "Epoch 9/100\n",
      "20/20 [==============================] - 5s 242ms/step - loss: 0.0011 - val_loss: 9.4592e-04\n",
      "Epoch 10/100\n",
      "20/20 [==============================] - 5s 260ms/step - loss: 0.0011 - val_loss: 0.0012\n",
      "Epoch 11/100\n",
      "20/20 [==============================] - 6s 286ms/step - loss: 0.0015 - val_loss: 0.0012\n",
      "Epoch 12/100\n",
      "20/20 [==============================] - 6s 282ms/step - loss: 0.0010 - val_loss: 9.8667e-04\n",
      "Epoch 13/100\n",
      "20/20 [==============================] - 6s 274ms/step - loss: 9.2921e-04 - val_loss: 7.3934e-04\n",
      "Epoch 14/100\n",
      "20/20 [==============================] - 6s 295ms/step - loss: 8.6354e-04 - val_loss: 8.2021e-04\n",
      "Epoch 15/100\n",
      "20/20 [==============================] - 7s 339ms/step - loss: 8.8391e-04 - val_loss: 6.7910e-04\n",
      "Epoch 16/100\n",
      "20/20 [==============================] - 7s 328ms/step - loss: 0.0013 - val_loss: 7.8010e-04\n",
      "Epoch 17/100\n",
      "20/20 [==============================] - 6s 297ms/step - loss: 8.6617e-04 - val_loss: 7.1254e-04\n",
      "Epoch 18/100\n",
      "20/20 [==============================] - 5s 255ms/step - loss: 8.6872e-04 - val_loss: 6.9873e-04\n",
      "Epoch 19/100\n",
      "20/20 [==============================] - 5s 240ms/step - loss: 8.3609e-04 - val_loss: 6.8325e-04\n",
      "Epoch 20/100\n",
      "20/20 [==============================] - 6s 282ms/step - loss: 8.4721e-04 - val_loss: 6.4088e-04\n",
      "Epoch 21/100\n",
      "20/20 [==============================] - 5s 276ms/step - loss: 8.5713e-04 - val_loss: 7.3804e-04\n",
      "Epoch 22/100\n",
      "20/20 [==============================] - 5s 228ms/step - loss: 7.4228e-04 - val_loss: 6.9949e-04\n",
      "Epoch 23/100\n",
      "20/20 [==============================] - 6s 279ms/step - loss: 7.0305e-04 - val_loss: 0.0010\n",
      "Epoch 24/100\n",
      "20/20 [==============================] - 5s 274ms/step - loss: 9.9353e-04 - val_loss: 8.6732e-04\n",
      "Epoch 25/100\n",
      "20/20 [==============================] - 5s 269ms/step - loss: 7.6963e-04 - val_loss: 9.9165e-04\n",
      "Epoch 26/100\n",
      "20/20 [==============================] - 5s 261ms/step - loss: 7.1817e-04 - val_loss: 6.4605e-04\n",
      "Epoch 27/100\n",
      "20/20 [==============================] - 5s 276ms/step - loss: 6.7765e-04 - val_loss: 0.0010\n",
      "Epoch 28/100\n",
      "20/20 [==============================] - 5s 260ms/step - loss: 7.4760e-04 - val_loss: 7.9292e-04\n",
      "Epoch 29/100\n",
      "20/20 [==============================] - 5s 272ms/step - loss: 7.0186e-04 - val_loss: 7.5234e-04\n",
      "Epoch 30/100\n",
      "20/20 [==============================] - 5s 244ms/step - loss: 6.4841e-04 - val_loss: 6.9111e-04\n",
      "Epoch 31/100\n",
      "20/20 [==============================] - 5s 274ms/step - loss: 6.9919e-04 - val_loss: 7.1549e-04\n",
      "Epoch 32/100\n",
      "20/20 [==============================] - 5s 255ms/step - loss: 6.3587e-04 - val_loss: 7.5005e-04\n",
      "Epoch 33/100\n",
      "20/20 [==============================] - 5s 237ms/step - loss: 6.0190e-04 - val_loss: 9.1075e-04\n",
      "Epoch 34/100\n",
      "20/20 [==============================] - 5s 239ms/step - loss: 7.2703e-04 - val_loss: 8.6026e-04\n",
      "Epoch 35/100\n",
      "20/20 [==============================] - 5s 227ms/step - loss: 6.3349e-04 - val_loss: 9.2845e-04\n",
      "Epoch 36/100\n",
      "20/20 [==============================] - 5s 254ms/step - loss: 6.2325e-04 - val_loss: 6.4708e-04\n",
      "Epoch 37/100\n",
      "20/20 [==============================] - 4s 223ms/step - loss: 5.7299e-04 - val_loss: 5.3442e-04\n",
      "Epoch 38/100\n",
      "20/20 [==============================] - 4s 220ms/step - loss: 5.8323e-04 - val_loss: 6.7548e-04\n",
      "Epoch 39/100\n",
      "20/20 [==============================] - 5s 229ms/step - loss: 5.8369e-04 - val_loss: 7.4940e-04\n",
      "Epoch 40/100\n",
      "20/20 [==============================] - 5s 225ms/step - loss: 6.0840e-04 - val_loss: 8.6184e-04\n",
      "Epoch 41/100\n",
      "20/20 [==============================] - 4s 220ms/step - loss: 5.5151e-04 - val_loss: 6.1736e-04\n",
      "Epoch 42/100\n",
      "20/20 [==============================] - 5s 229ms/step - loss: 5.1176e-04 - val_loss: 6.1551e-04\n",
      "Epoch 43/100\n",
      "20/20 [==============================] - 4s 219ms/step - loss: 5.1542e-04 - val_loss: 6.1002e-04\n",
      "Epoch 44/100\n",
      "20/20 [==============================] - 5s 225ms/step - loss: 5.1928e-04 - val_loss: 5.2990e-04\n",
      "Epoch 45/100\n",
      "20/20 [==============================] - 4s 225ms/step - loss: 8.1569e-04 - val_loss: 7.0577e-04\n",
      "Epoch 46/100\n",
      "20/20 [==============================] - 4s 223ms/step - loss: 5.8433e-04 - val_loss: 6.5237e-04\n",
      "Epoch 47/100\n",
      "20/20 [==============================] - 4s 222ms/step - loss: 4.9633e-04 - val_loss: 4.8984e-04\n",
      "Epoch 48/100\n",
      "20/20 [==============================] - 6s 283ms/step - loss: 5.5898e-04 - val_loss: 5.2921e-04\n",
      "Epoch 49/100\n",
      "20/20 [==============================] - 5s 252ms/step - loss: 5.6121e-04 - val_loss: 7.4282e-04\n",
      "Epoch 50/100\n",
      "20/20 [==============================] - 5s 239ms/step - loss: 4.7259e-04 - val_loss: 4.4486e-04\n",
      "Epoch 51/100\n",
      "20/20 [==============================] - 4s 221ms/step - loss: 4.4928e-04 - val_loss: 6.2653e-04\n",
      "Epoch 52/100\n",
      "20/20 [==============================] - 5s 226ms/step - loss: 4.6513e-04 - val_loss: 6.5278e-04\n",
      "Epoch 53/100\n",
      "20/20 [==============================] - 4s 221ms/step - loss: 4.6869e-04 - val_loss: 4.8457e-04\n",
      "Epoch 54/100\n",
      "20/20 [==============================] - 4s 219ms/step - loss: 5.1627e-04 - val_loss: 4.4290e-04\n",
      "Epoch 55/100\n",
      "20/20 [==============================] - 5s 228ms/step - loss: 5.7744e-04 - val_loss: 5.5568e-04\n",
      "Epoch 56/100\n",
      "20/20 [==============================] - 4s 223ms/step - loss: 4.4849e-04 - val_loss: 4.1842e-04\n",
      "Epoch 57/100\n",
      "20/20 [==============================] - 4s 219ms/step - loss: 4.1907e-04 - val_loss: 4.3192e-04\n",
      "Epoch 58/100\n",
      "20/20 [==============================] - 4s 219ms/step - loss: 4.0411e-04 - val_loss: 4.2299e-04\n",
      "Epoch 59/100\n",
      "20/20 [==============================] - 4s 219ms/step - loss: 4.7857e-04 - val_loss: 4.7039e-04\n",
      "Epoch 60/100\n",
      "20/20 [==============================] - 4s 222ms/step - loss: 4.4790e-04 - val_loss: 3.7358e-04\n",
      "Epoch 61/100\n",
      "20/20 [==============================] - 4s 221ms/step - loss: 3.7827e-04 - val_loss: 4.1919e-04\n",
      "Epoch 62/100\n",
      "20/20 [==============================] - 4s 220ms/step - loss: 3.7462e-04 - val_loss: 3.6605e-04\n",
      "Epoch 63/100\n",
      "20/20 [==============================] - 4s 220ms/step - loss: 4.4893e-04 - val_loss: 3.6926e-04\n",
      "Epoch 64/100\n",
      "20/20 [==============================] - 4s 224ms/step - loss: 3.4824e-04 - val_loss: 4.0638e-04\n",
      "Epoch 65/100\n",
      "20/20 [==============================] - 5s 234ms/step - loss: 3.9098e-04 - val_loss: 3.2109e-04\n",
      "Epoch 66/100\n",
      "20/20 [==============================] - 4s 223ms/step - loss: 3.8173e-04 - val_loss: 3.5692e-04\n",
      "Epoch 67/100\n",
      "20/20 [==============================] - 5s 231ms/step - loss: 5.3245e-04 - val_loss: 5.1269e-04\n",
      "Epoch 68/100\n",
      "20/20 [==============================] - 4s 225ms/step - loss: 3.9576e-04 - val_loss: 3.0532e-04\n",
      "Epoch 69/100\n",
      "20/20 [==============================] - 4s 223ms/step - loss: 3.8290e-04 - val_loss: 3.8982e-04\n",
      "Epoch 70/100\n",
      "20/20 [==============================] - 4s 221ms/step - loss: 4.1688e-04 - val_loss: 3.2560e-04\n",
      "Epoch 71/100\n",
      "20/20 [==============================] - 4s 221ms/step - loss: 3.8906e-04 - val_loss: 4.1848e-04\n",
      "Epoch 72/100\n",
      "20/20 [==============================] - 4s 223ms/step - loss: 3.2749e-04 - val_loss: 3.1468e-04\n",
      "Epoch 73/100\n",
      "20/20 [==============================] - 4s 219ms/step - loss: 3.0293e-04 - val_loss: 3.0300e-04\n",
      "Epoch 74/100\n",
      "20/20 [==============================] - 5s 235ms/step - loss: 3.0219e-04 - val_loss: 2.8555e-04\n",
      "Epoch 75/100\n",
      "20/20 [==============================] - 4s 225ms/step - loss: 3.0470e-04 - val_loss: 3.2307e-04\n",
      "Epoch 76/100\n",
      "20/20 [==============================] - 4s 226ms/step - loss: 3.3321e-04 - val_loss: 6.5420e-04\n",
      "Epoch 77/100\n",
      "20/20 [==============================] - 4s 222ms/step - loss: 4.0982e-04 - val_loss: 2.8568e-04\n",
      "Epoch 78/100\n",
      "20/20 [==============================] - 4s 223ms/step - loss: 3.1014e-04 - val_loss: 3.5237e-04\n",
      "Epoch 79/100\n",
      "20/20 [==============================] - 5s 234ms/step - loss: 2.7679e-04 - val_loss: 3.1201e-04\n",
      "Epoch 80/100\n",
      "20/20 [==============================] - 4s 220ms/step - loss: 2.8116e-04 - val_loss: 3.5244e-04\n",
      "Epoch 81/100\n",
      "20/20 [==============================] - 4s 226ms/step - loss: 2.8400e-04 - val_loss: 2.9144e-04\n",
      "Epoch 82/100\n",
      "20/20 [==============================] - 5s 239ms/step - loss: 2.6861e-04 - val_loss: 3.0869e-04\n",
      "Epoch 83/100\n",
      "20/20 [==============================] - 5s 230ms/step - loss: 2.4907e-04 - val_loss: 2.5018e-04\n",
      "Epoch 84/100\n",
      "20/20 [==============================] - 4s 223ms/step - loss: 2.6838e-04 - val_loss: 2.7030e-04\n",
      "Epoch 85/100\n",
      "20/20 [==============================] - 4s 223ms/step - loss: 2.4421e-04 - val_loss: 2.4105e-04\n",
      "Epoch 86/100\n",
      "20/20 [==============================] - 4s 220ms/step - loss: 2.3950e-04 - val_loss: 2.6983e-04\n",
      "Epoch 87/100\n",
      "20/20 [==============================] - 4s 219ms/step - loss: 2.8243e-04 - val_loss: 3.0480e-04\n",
      "Epoch 88/100\n",
      "20/20 [==============================] - 4s 223ms/step - loss: 3.2620e-04 - val_loss: 3.5200e-04\n",
      "Epoch 89/100\n",
      "20/20 [==============================] - 5s 231ms/step - loss: 3.1876e-04 - val_loss: 2.0602e-04\n",
      "Epoch 90/100\n",
      "20/20 [==============================] - 4s 220ms/step - loss: 2.7198e-04 - val_loss: 2.2692e-04\n",
      "Epoch 91/100\n",
      "20/20 [==============================] - 4s 226ms/step - loss: 2.6103e-04 - val_loss: 2.2423e-04\n",
      "Epoch 92/100\n",
      "20/20 [==============================] - 5s 228ms/step - loss: 2.4006e-04 - val_loss: 2.4077e-04\n",
      "Epoch 93/100\n",
      "20/20 [==============================] - 4s 221ms/step - loss: 2.4248e-04 - val_loss: 2.8482e-04\n",
      "Epoch 94/100\n",
      "20/20 [==============================] - 4s 222ms/step - loss: 5.7315e-04 - val_loss: 3.2994e-04\n",
      "Epoch 95/100\n",
      "20/20 [==============================] - 5s 230ms/step - loss: 2.6491e-04 - val_loss: 2.7966e-04\n",
      "Epoch 96/100\n",
      "20/20 [==============================] - 4s 222ms/step - loss: 2.3419e-04 - val_loss: 2.4622e-04\n",
      "Epoch 97/100\n",
      "20/20 [==============================] - 4s 222ms/step - loss: 2.4233e-04 - val_loss: 2.2114e-04\n",
      "Epoch 98/100\n",
      "20/20 [==============================] - 4s 221ms/step - loss: 2.5345e-04 - val_loss: 2.4099e-04\n",
      "Epoch 99/100\n",
      "20/20 [==============================] - 4s 224ms/step - loss: 2.2839e-04 - val_loss: 2.5015e-04\n",
      "Epoch 100/100\n",
      "20/20 [==============================] - 4s 225ms/step - loss: 2.4713e-04 - val_loss: 2.5771e-04\n"
     ]
    },
    {
     "data": {
      "text/plain": [
       "<keras.callbacks.History at 0x19d787c2f50>"
      ]
     },
     "execution_count": 48,
     "metadata": {},
     "output_type": "execute_result"
    }
   ],
   "source": [
    "model.fit(X_train,y_train,validation_data=(X_test,ytest),epochs=100,batch_size=64,verbose=1)"
   ]
  },
  {
   "cell_type": "markdown",
   "id": "4e67f1fd",
   "metadata": {},
   "source": [
    "# Lets Do the prediction and check performance metrics"
   ]
  },
  {
   "cell_type": "code",
   "execution_count": 49,
   "id": "11843031",
   "metadata": {},
   "outputs": [
    {
     "name": "stdout",
     "output_type": "stream",
     "text": [
      "39/39 [==============================] - 3s 49ms/step\n",
      "20/20 [==============================] - 1s 48ms/step\n"
     ]
    }
   ],
   "source": [
    "\n",
    "train_predict=model.predict(X_train)\n",
    "test_predict=model.predict(X_test)"
   ]
  },
  {
   "cell_type": "markdown",
   "id": "eac77da6",
   "metadata": {},
   "source": [
    "# Transformback to original form"
   ]
  },
  {
   "cell_type": "code",
   "execution_count": 50,
   "id": "10dbd6cb",
   "metadata": {},
   "outputs": [],
   "source": [
    "train_predict=scaler.inverse_transform(train_predict)\n",
    "test_predict=scaler.inverse_transform(test_predict)"
   ]
  },
  {
   "cell_type": "markdown",
   "id": "5a45a47d",
   "metadata": {},
   "source": [
    "# Calculate RMSE performance metrics"
   ]
  },
  {
   "cell_type": "code",
   "execution_count": 51,
   "id": "59ac02bf",
   "metadata": {},
   "outputs": [
    {
     "data": {
      "text/plain": [
       "167.05042221642802"
      ]
     },
     "execution_count": 51,
     "metadata": {},
     "output_type": "execute_result"
    }
   ],
   "source": [
    "import math\n",
    "from sklearn.metrics import mean_squared_error\n",
    "math.sqrt(mean_squared_error(y_train,train_predict))"
   ]
  },
  {
   "cell_type": "markdown",
   "id": "922654f6",
   "metadata": {},
   "source": [
    "# Test Data RMSE"
   ]
  },
  {
   "cell_type": "code",
   "execution_count": 52,
   "id": "ef663e94",
   "metadata": {},
   "outputs": [
    {
     "data": {
      "text/plain": [
       "116.8170957128129"
      ]
     },
     "execution_count": 52,
     "metadata": {},
     "output_type": "execute_result"
    }
   ],
   "source": [
    "math.sqrt(mean_squared_error(ytest,test_predict))"
   ]
  },
  {
   "cell_type": "markdown",
   "id": "2beb4762",
   "metadata": {},
   "source": [
    "# Plotting "
   ]
  },
  {
   "cell_type": "code",
   "execution_count": 53,
   "id": "5e9a7e2a",
   "metadata": {},
   "outputs": [
    {
     "data": {
      "image/png": "[encoded data removed]",
      "text/plain": [
       "<Figure size 640x480 with 1 Axes>"
      ]
     },
     "metadata": {},
     "output_type": "display_data"
    }
   ],
   "source": [
    "# shift train predictions for plotting\n",
    "look_back=100\n",
    "trainPredictPlot = numpy.empty_like(df1)\n",
    "trainPredictPlot[:, :] = np.nan\n",
    "trainPredictPlot[look_back:len(train_predict)+look_back, :] = train_predict\n",
    "# shift test predictions for plotting\n",
    "testPredictPlot = numpy.empty_like(df1)\n",
    "testPredictPlot[:, :] = numpy.nan\n",
    "testPredictPlot[len(train_predict)+(look_back*2)+1:len(df1)-1, :] = test_predict\n",
    "# plot baseline and predictions\n",
    "plt.plot(scaler.inverse_transform(df1))\n",
    "plt.plot(trainPredictPlot)\n",
    "plt.plot(testPredictPlot)\n",
    "plt.show()\n"
   ]
  },
  {
   "cell_type": "code",
   "execution_count": 54,
   "id": "74039228",
   "metadata": {},
   "outputs": [
    {
     "data": {
      "text/plain": [
       "713"
      ]
     },
     "execution_count": 54,
     "metadata": {},
     "output_type": "execute_result"
    }
   ],
   "source": [
    "len(test_data)"
   ]
  },
  {
   "cell_type": "code",
   "execution_count": 55,
   "id": "281d88e1",
   "metadata": {},
   "outputs": [
    {
     "data": {
      "text/plain": [
       "(1, 100)"
      ]
     },
     "execution_count": 55,
     "metadata": {},
     "output_type": "execute_result"
    }
   ],
   "source": [
    "x_input=test_data[613:].reshape(1,-1)\n",
    "x_input.shape\n"
   ]
  },
  {
   "cell_type": "code",
   "execution_count": 56,
   "id": "c37fd1d1",
   "metadata": {},
   "outputs": [],
   "source": [
    "temp_input=list(x_input)\n",
    "temp_input=temp_input[0].tolist()"
   ]
  },
  {
   "cell_type": "code",
   "execution_count": 57,
   "id": "0d520b88",
   "metadata": {
    "scrolled": true
   },
   "outputs": [
    {
     "data": {
      "text/plain": [
       "[0.12479575163398693,\n",
       " 0.1384803921568627,\n",
       " 0.14011437908496732,\n",
       " 0.1388888888888889,\n",
       " 0.13541666666666663,\n",
       " 0.14011437908496732,\n",
       " 0.13807189542483655,\n",
       " 0.130718954248366,\n",
       " 0.130718954248366,\n",
       " 0.12867647058823528,\n",
       " 0.11846405228758167,\n",
       " 0.14644607843137253,\n",
       " 0.1480800653594771,\n",
       " 0.159109477124183,\n",
       " 0.15992647058823523,\n",
       " 0.1578839869281045,\n",
       " 0.16441993464052285,\n",
       " 0.178921568627451,\n",
       " 0.17933006535947704,\n",
       " 0.19260620915032678,\n",
       " 0.2081290849673203,\n",
       " 0.18974673202614378,\n",
       " 0.18055555555555558,\n",
       " 0.1823937908496731,\n",
       " 0.17708333333333326,\n",
       " 0.17810457516339862,\n",
       " 0.18055555555555558,\n",
       " 0.17810457516339862,\n",
       " 0.17851307189542487,\n",
       " 0.196078431372549,\n",
       " 0.18913398692810457,\n",
       " 0.1895424836601307,\n",
       " 0.19403594771241828,\n",
       " 0.19444444444444442,\n",
       " 0.20200163398692816,\n",
       " 0.19771241830065356,\n",
       " 0.19934640522875813,\n",
       " 0.19873366013071891,\n",
       " 0.19975490196078427,\n",
       " 0.21282679738562094,\n",
       " 0.21568627450980393,\n",
       " 0.2044526143790849,\n",
       " 0.21772875816993464,\n",
       " 0.21098856209150318,\n",
       " 0.21425653594771243,\n",
       " 0.1975081699346406,\n",
       " 0.1881127450980392,\n",
       " 0.17851307189542487,\n",
       " 0.17381535947712412,\n",
       " 0.16033496732026142,\n",
       " 0.16564542483660127,\n",
       " 0.1711601307189542,\n",
       " 0.17422385620915026,\n",
       " 0.1803513071895424,\n",
       " 0.1740196078431372,\n",
       " 0.16278594771241828,\n",
       " 0.1697303921568627,\n",
       " 0.17810457516339862,\n",
       " 0.1703431372549019,\n",
       " 0.16830065359477125,\n",
       " 0.17279411764705876,\n",
       " 0.1754493464052288,\n",
       " 0.18382352941176472,\n",
       " 0.19138071895424835,\n",
       " 0.18913398692810457,\n",
       " 0.1909722222222222,\n",
       " 0.17238562091503273,\n",
       " 0.16830065359477125,\n",
       " 0.16932189542483655,\n",
       " 0.1717728758169934,\n",
       " 0.16156045751633985,\n",
       " 0.14971405228758167,\n",
       " 0.15032679738562088,\n",
       " 0.1519607843137255,\n",
       " 0.1472630718954248,\n",
       " 0.14501633986928103,\n",
       " 0.14603758169934639,\n",
       " 0.12479575163398693,\n",
       " 0.13112745098039214,\n",
       " 0.11397058823529405,\n",
       " 0.11907679738562088,\n",
       " 0.12377450980392157,\n",
       " 0.13562091503267976,\n",
       " 0.12908496732026142,\n",
       " 0.1345996732026144,\n",
       " 0.12806372549019607,\n",
       " 0.13031045751633985,\n",
       " 0.12724673202614373,\n",
       " 0.13521241830065356,\n",
       " 0.1452205882352941,\n",
       " 0.15257352941176466,\n",
       " 0.14848856209150324,\n",
       " 0.14338235294117646,\n",
       " 0.14562908496732024,\n",
       " 0.1523692810457516,\n",
       " 0.15400326797385622,\n",
       " 0.14971405228758167,\n",
       " 0.16217320261437906,\n",
       " 0.16319444444444448,\n",
       " 0.16584967320261434]"
      ]
     },
     "execution_count": 57,
     "metadata": {},
     "output_type": "execute_result"
    }
   ],
   "source": [
    "temp_input"
   ]
  },
  {
   "cell_type": "markdown",
   "id": "ec3101a9",
   "metadata": {},
   "source": [
    "# Demonstrating prediction for next 30 days"
   ]
  },
  {
   "cell_type": "code",
   "execution_count": 58,
   "id": "3f24958e",
   "metadata": {
    "scrolled": false
   },
   "outputs": [
    {
     "name": "stdout",
     "output_type": "stream",
     "text": [
      "[0.16905901]\n",
      "101\n",
      "1 day input [0.13848039 0.14011438 0.13888889 0.13541667 0.14011438 0.1380719\n",
      " 0.13071895 0.13071895 0.12867647 0.11846405 0.14644608 0.14808007\n",
      " 0.15910948 0.15992647 0.15788399 0.16441993 0.17892157 0.17933007\n",
      " 0.19260621 0.20812908 0.18974673 0.18055556 0.18239379 0.17708333\n",
      " 0.17810458 0.18055556 0.17810458 0.17851307 0.19607843 0.18913399\n",
      " 0.18954248 0.19403595 0.19444444 0.20200163 0.19771242 0.19934641\n",
      " 0.19873366 0.1997549  0.2128268  0.21568627 0.20445261 0.21772876\n",
      " 0.21098856 0.21425654 0.19750817 0.18811275 0.17851307 0.17381536\n",
      " 0.16033497 0.16564542 0.17116013 0.17422386 0.18035131 0.17401961\n",
      " 0.16278595 0.16973039 0.17810458 0.17034314 0.16830065 0.17279412\n",
      " 0.17544935 0.18382353 0.19138072 0.18913399 0.19097222 0.17238562\n",
      " 0.16830065 0.1693219  0.17177288 0.16156046 0.14971405 0.1503268\n",
      " 0.15196078 0.14726307 0.14501634 0.14603758 0.12479575 0.13112745\n",
      " 0.11397059 0.1190768  0.12377451 0.13562092 0.12908497 0.13459967\n",
      " 0.12806373 0.13031046 0.12724673 0.13521242 0.14522059 0.15257353\n",
      " 0.14848856 0.14338235 0.14562908 0.15236928 0.15400327 0.14971405\n",
      " 0.1621732  0.16319444 0.16584967 0.16905901]\n",
      "1 day output [[0.172143]]\n",
      "2 day input [0.14011438 0.13888889 0.13541667 0.14011438 0.1380719  0.13071895\n",
      " 0.13071895 0.12867647 0.11846405 0.14644608 0.14808007 0.15910948\n",
      " 0.15992647 0.15788399 0.16441993 0.17892157 0.17933007 0.19260621\n",
      " 0.20812908 0.18974673 0.18055556 0.18239379 0.17708333 0.17810458\n",
      " 0.18055556 0.17810458 0.17851307 0.19607843 0.18913399 0.18954248\n",
      " 0.19403595 0.19444444 0.20200163 0.19771242 0.19934641 0.19873366\n",
      " 0.1997549  0.2128268  0.21568627 0.20445261 0.21772876 0.21098856\n",
      " 0.21425654 0.19750817 0.18811275 0.17851307 0.17381536 0.16033497\n",
      " 0.16564542 0.17116013 0.17422386 0.18035131 0.17401961 0.16278595\n",
      " 0.16973039 0.17810458 0.17034314 0.16830065 0.17279412 0.17544935\n",
      " 0.18382353 0.19138072 0.18913399 0.19097222 0.17238562 0.16830065\n",
      " 0.1693219  0.17177288 0.16156046 0.14971405 0.1503268  0.15196078\n",
      " 0.14726307 0.14501634 0.14603758 0.12479575 0.13112745 0.11397059\n",
      " 0.1190768  0.12377451 0.13562092 0.12908497 0.13459967 0.12806373\n",
      " 0.13031046 0.12724673 0.13521242 0.14522059 0.15257353 0.14848856\n",
      " 0.14338235 0.14562908 0.15236928 0.15400327 0.14971405 0.1621732\n",
      " 0.16319444 0.16584967 0.16905901 0.172143  ]\n",
      "2 day output [[0.17481759]]\n",
      "3 day input [0.13888889 0.13541667 0.14011438 0.1380719  0.13071895 0.13071895\n",
      " 0.12867647 0.11846405 0.14644608 0.14808007 0.15910948 0.15992647\n",
      " 0.15788399 0.16441993 0.17892157 0.17933007 0.19260621 0.20812908\n",
      " 0.18974673 0.18055556 0.18239379 0.17708333 0.17810458 0.18055556\n",
      " 0.17810458 0.17851307 0.19607843 0.18913399 0.18954248 0.19403595\n",
      " 0.19444444 0.20200163 0.19771242 0.19934641 0.19873366 0.1997549\n",
      " 0.2128268  0.21568627 0.20445261 0.21772876 0.21098856 0.21425654\n",
      " 0.19750817 0.18811275 0.17851307 0.17381536 0.16033497 0.16564542\n",
      " 0.17116013 0.17422386 0.18035131 0.17401961 0.16278595 0.16973039\n",
      " 0.17810458 0.17034314 0.16830065 0.17279412 0.17544935 0.18382353\n",
      " 0.19138072 0.18913399 0.19097222 0.17238562 0.16830065 0.1693219\n",
      " 0.17177288 0.16156046 0.14971405 0.1503268  0.15196078 0.14726307\n",
      " 0.14501634 0.14603758 0.12479575 0.13112745 0.11397059 0.1190768\n",
      " 0.12377451 0.13562092 0.12908497 0.13459967 0.12806373 0.13031046\n",
      " 0.12724673 0.13521242 0.14522059 0.15257353 0.14848856 0.14338235\n",
      " 0.14562908 0.15236928 0.15400327 0.14971405 0.1621732  0.16319444\n",
      " 0.16584967 0.16905901 0.172143   0.17481759]\n",
      "3 day output [[0.17726216]]\n",
      "4 day input [0.13541667 0.14011438 0.1380719  0.13071895 0.13071895 0.12867647\n",
      " 0.11846405 0.14644608 0.14808007 0.15910948 0.15992647 0.15788399\n",
      " 0.16441993 0.17892157 0.17933007 0.19260621 0.20812908 0.18974673\n",
      " 0.18055556 0.18239379 0.17708333 0.17810458 0.18055556 0.17810458\n",
      " 0.17851307 0.19607843 0.18913399 0.18954248 0.19403595 0.19444444\n",
      " 0.20200163 0.19771242 0.19934641 0.19873366 0.1997549  0.2128268\n",
      " 0.21568627 0.20445261 0.21772876 0.21098856 0.21425654 0.19750817\n",
      " 0.18811275 0.17851307 0.17381536 0.16033497 0.16564542 0.17116013\n",
      " 0.17422386 0.18035131 0.17401961 0.16278595 0.16973039 0.17810458\n",
      " 0.17034314 0.16830065 0.17279412 0.17544935 0.18382353 0.19138072\n",
      " 0.18913399 0.19097222 0.17238562 0.16830065 0.1693219  0.17177288\n",
      " 0.16156046 0.14971405 0.1503268  0.15196078 0.14726307 0.14501634\n",
      " 0.14603758 0.12479575 0.13112745 0.11397059 0.1190768  0.12377451\n",
      " 0.13562092 0.12908497 0.13459967 0.12806373 0.13031046 0.12724673\n",
      " 0.13521242 0.14522059 0.15257353 0.14848856 0.14338235 0.14562908\n",
      " 0.15236928 0.15400327 0.14971405 0.1621732  0.16319444 0.16584967\n",
      " 0.16905901 0.172143   0.17481759 0.17726216]\n",
      "4 day output [[0.17955594]]\n",
      "5 day input [0.14011438 0.1380719  0.13071895 0.13071895 0.12867647 0.11846405\n",
      " 0.14644608 0.14808007 0.15910948 0.15992647 0.15788399 0.16441993\n",
      " 0.17892157 0.17933007 0.19260621 0.20812908 0.18974673 0.18055556\n",
      " 0.18239379 0.17708333 0.17810458 0.18055556 0.17810458 0.17851307\n",
      " 0.19607843 0.18913399 0.18954248 0.19403595 0.19444444 0.20200163\n",
      " 0.19771242 0.19934641 0.19873366 0.1997549  0.2128268  0.21568627\n",
      " 0.20445261 0.21772876 0.21098856 0.21425654 0.19750817 0.18811275\n",
      " 0.17851307 0.17381536 0.16033497 0.16564542 0.17116013 0.17422386\n",
      " 0.18035131 0.17401961 0.16278595 0.16973039 0.17810458 0.17034314\n",
      " 0.16830065 0.17279412 0.17544935 0.18382353 0.19138072 0.18913399\n",
      " 0.19097222 0.17238562 0.16830065 0.1693219  0.17177288 0.16156046\n",
      " 0.14971405 0.1503268  0.15196078 0.14726307 0.14501634 0.14603758\n",
      " 0.12479575 0.13112745 0.11397059 0.1190768  0.12377451 0.13562092\n",
      " 0.12908497 0.13459967 0.12806373 0.13031046 0.12724673 0.13521242\n",
      " 0.14522059 0.15257353 0.14848856 0.14338235 0.14562908 0.15236928\n",
      " 0.15400327 0.14971405 0.1621732  0.16319444 0.16584967 0.16905901\n",
      " 0.172143   0.17481759 0.17726216 0.17955594]\n",
      "5 day output [[0.18173505]]\n",
      "6 day input [0.1380719  0.13071895 0.13071895 0.12867647 0.11846405 0.14644608\n",
      " 0.14808007 0.15910948 0.15992647 0.15788399 0.16441993 0.17892157\n",
      " 0.17933007 0.19260621 0.20812908 0.18974673 0.18055556 0.18239379\n",
      " 0.17708333 0.17810458 0.18055556 0.17810458 0.17851307 0.19607843\n",
      " 0.18913399 0.18954248 0.19403595 0.19444444 0.20200163 0.19771242\n",
      " 0.19934641 0.19873366 0.1997549  0.2128268  0.21568627 0.20445261\n",
      " 0.21772876 0.21098856 0.21425654 0.19750817 0.18811275 0.17851307\n",
      " 0.17381536 0.16033497 0.16564542 0.17116013 0.17422386 0.18035131\n",
      " 0.17401961 0.16278595 0.16973039 0.17810458 0.17034314 0.16830065\n",
      " 0.17279412 0.17544935 0.18382353 0.19138072 0.18913399 0.19097222\n",
      " 0.17238562 0.16830065 0.1693219  0.17177288 0.16156046 0.14971405\n",
      " 0.1503268  0.15196078 0.14726307 0.14501634 0.14603758 0.12479575\n",
      " 0.13112745 0.11397059 0.1190768  0.12377451 0.13562092 0.12908497\n",
      " 0.13459967 0.12806373 0.13031046 0.12724673 0.13521242 0.14522059\n",
      " 0.15257353 0.14848856 0.14338235 0.14562908 0.15236928 0.15400327\n",
      " 0.14971405 0.1621732  0.16319444 0.16584967 0.16905901 0.172143\n",
      " 0.17481759 0.17726216 0.17955594 0.18173505]\n",
      "6 day output [[0.18382254]]\n",
      "7 day input [0.13071895 0.13071895 0.12867647 0.11846405 0.14644608 0.14808007\n",
      " 0.15910948 0.15992647 0.15788399 0.16441993 0.17892157 0.17933007\n",
      " 0.19260621 0.20812908 0.18974673 0.18055556 0.18239379 0.17708333\n",
      " 0.17810458 0.18055556 0.17810458 0.17851307 0.19607843 0.18913399\n",
      " 0.18954248 0.19403595 0.19444444 0.20200163 0.19771242 0.19934641\n",
      " 0.19873366 0.1997549  0.2128268  0.21568627 0.20445261 0.21772876\n",
      " 0.21098856 0.21425654 0.19750817 0.18811275 0.17851307 0.17381536\n",
      " 0.16033497 0.16564542 0.17116013 0.17422386 0.18035131 0.17401961\n",
      " 0.16278595 0.16973039 0.17810458 0.17034314 0.16830065 0.17279412\n",
      " 0.17544935 0.18382353 0.19138072 0.18913399 0.19097222 0.17238562\n",
      " 0.16830065 0.1693219  0.17177288 0.16156046 0.14971405 0.1503268\n",
      " 0.15196078 0.14726307 0.14501634 0.14603758 0.12479575 0.13112745\n",
      " 0.11397059 0.1190768  0.12377451 0.13562092 0.12908497 0.13459967\n",
      " 0.12806373 0.13031046 0.12724673 0.13521242 0.14522059 0.15257353\n",
      " 0.14848856 0.14338235 0.14562908 0.15236928 0.15400327 0.14971405\n",
      " 0.1621732  0.16319444 0.16584967 0.16905901 0.172143   0.17481759\n",
      " 0.17726216 0.17955594 0.18173505 0.18382254]\n",
      "7 day output [[0.18583572]]\n",
      "8 day input [0.13071895 0.12867647 0.11846405 0.14644608 0.14808007 0.15910948\n",
      " 0.15992647 0.15788399 0.16441993 0.17892157 0.17933007 0.19260621\n",
      " 0.20812908 0.18974673 0.18055556 0.18239379 0.17708333 0.17810458\n",
      " 0.18055556 0.17810458 0.17851307 0.19607843 0.18913399 0.18954248\n",
      " 0.19403595 0.19444444 0.20200163 0.19771242 0.19934641 0.19873366\n",
      " 0.1997549  0.2128268  0.21568627 0.20445261 0.21772876 0.21098856\n",
      " 0.21425654 0.19750817 0.18811275 0.17851307 0.17381536 0.16033497\n",
      " 0.16564542 0.17116013 0.17422386 0.18035131 0.17401961 0.16278595\n",
      " 0.16973039 0.17810458 0.17034314 0.16830065 0.17279412 0.17544935\n",
      " 0.18382353 0.19138072 0.18913399 0.19097222 0.17238562 0.16830065\n",
      " 0.1693219  0.17177288 0.16156046 0.14971405 0.1503268  0.15196078\n",
      " 0.14726307 0.14501634 0.14603758 0.12479575 0.13112745 0.11397059\n",
      " 0.1190768  0.12377451 0.13562092 0.12908497 0.13459967 0.12806373\n",
      " 0.13031046 0.12724673 0.13521242 0.14522059 0.15257353 0.14848856\n",
      " 0.14338235 0.14562908 0.15236928 0.15400327 0.14971405 0.1621732\n",
      " 0.16319444 0.16584967 0.16905901 0.172143   0.17481759 0.17726216\n",
      " 0.17955594 0.18173505 0.18382254 0.18583572]\n",
      "8 day output [[0.18778712]]\n",
      "9 day input [0.12867647 0.11846405 0.14644608 0.14808007 0.15910948 0.15992647\n",
      " 0.15788399 0.16441993 0.17892157 0.17933007 0.19260621 0.20812908\n",
      " 0.18974673 0.18055556 0.18239379 0.17708333 0.17810458 0.18055556\n",
      " 0.17810458 0.17851307 0.19607843 0.18913399 0.18954248 0.19403595\n",
      " 0.19444444 0.20200163 0.19771242 0.19934641 0.19873366 0.1997549\n",
      " 0.2128268  0.21568627 0.20445261 0.21772876 0.21098856 0.21425654\n",
      " 0.19750817 0.18811275 0.17851307 0.17381536 0.16033497 0.16564542\n",
      " 0.17116013 0.17422386 0.18035131 0.17401961 0.16278595 0.16973039\n",
      " 0.17810458 0.17034314 0.16830065 0.17279412 0.17544935 0.18382353\n",
      " 0.19138072 0.18913399 0.19097222 0.17238562 0.16830065 0.1693219\n",
      " 0.17177288 0.16156046 0.14971405 0.1503268  0.15196078 0.14726307\n",
      " 0.14501634 0.14603758 0.12479575 0.13112745 0.11397059 0.1190768\n",
      " 0.12377451 0.13562092 0.12908497 0.13459967 0.12806373 0.13031046\n",
      " 0.12724673 0.13521242 0.14522059 0.15257353 0.14848856 0.14338235\n",
      " 0.14562908 0.15236928 0.15400327 0.14971405 0.1621732  0.16319444\n",
      " 0.16584967 0.16905901 0.172143   0.17481759 0.17726216 0.17955594\n",
      " 0.18173505 0.18382254 0.18583572 0.18778712]\n"
     ]
    },
    {
     "name": "stdout",
     "output_type": "stream",
     "text": [
      "9 day output [[0.18968464]]\n",
      "10 day input [0.11846405 0.14644608 0.14808007 0.15910948 0.15992647 0.15788399\n",
      " 0.16441993 0.17892157 0.17933007 0.19260621 0.20812908 0.18974673\n",
      " 0.18055556 0.18239379 0.17708333 0.17810458 0.18055556 0.17810458\n",
      " 0.17851307 0.19607843 0.18913399 0.18954248 0.19403595 0.19444444\n",
      " 0.20200163 0.19771242 0.19934641 0.19873366 0.1997549  0.2128268\n",
      " 0.21568627 0.20445261 0.21772876 0.21098856 0.21425654 0.19750817\n",
      " 0.18811275 0.17851307 0.17381536 0.16033497 0.16564542 0.17116013\n",
      " 0.17422386 0.18035131 0.17401961 0.16278595 0.16973039 0.17810458\n",
      " 0.17034314 0.16830065 0.17279412 0.17544935 0.18382353 0.19138072\n",
      " 0.18913399 0.19097222 0.17238562 0.16830065 0.1693219  0.17177288\n",
      " 0.16156046 0.14971405 0.1503268  0.15196078 0.14726307 0.14501634\n",
      " 0.14603758 0.12479575 0.13112745 0.11397059 0.1190768  0.12377451\n",
      " 0.13562092 0.12908497 0.13459967 0.12806373 0.13031046 0.12724673\n",
      " 0.13521242 0.14522059 0.15257353 0.14848856 0.14338235 0.14562908\n",
      " 0.15236928 0.15400327 0.14971405 0.1621732  0.16319444 0.16584967\n",
      " 0.16905901 0.172143   0.17481759 0.17726216 0.17955594 0.18173505\n",
      " 0.18382254 0.18583572 0.18778712 0.18968464]\n",
      "10 day output [[0.19153279]]\n",
      "11 day input [0.14644608 0.14808007 0.15910948 0.15992647 0.15788399 0.16441993\n",
      " 0.17892157 0.17933007 0.19260621 0.20812908 0.18974673 0.18055556\n",
      " 0.18239379 0.17708333 0.17810458 0.18055556 0.17810458 0.17851307\n",
      " 0.19607843 0.18913399 0.18954248 0.19403595 0.19444444 0.20200163\n",
      " 0.19771242 0.19934641 0.19873366 0.1997549  0.2128268  0.21568627\n",
      " 0.20445261 0.21772876 0.21098856 0.21425654 0.19750817 0.18811275\n",
      " 0.17851307 0.17381536 0.16033497 0.16564542 0.17116013 0.17422386\n",
      " 0.18035131 0.17401961 0.16278595 0.16973039 0.17810458 0.17034314\n",
      " 0.16830065 0.17279412 0.17544935 0.18382353 0.19138072 0.18913399\n",
      " 0.19097222 0.17238562 0.16830065 0.1693219  0.17177288 0.16156046\n",
      " 0.14971405 0.1503268  0.15196078 0.14726307 0.14501634 0.14603758\n",
      " 0.12479575 0.13112745 0.11397059 0.1190768  0.12377451 0.13562092\n",
      " 0.12908497 0.13459967 0.12806373 0.13031046 0.12724673 0.13521242\n",
      " 0.14522059 0.15257353 0.14848856 0.14338235 0.14562908 0.15236928\n",
      " 0.15400327 0.14971405 0.1621732  0.16319444 0.16584967 0.16905901\n",
      " 0.172143   0.17481759 0.17726216 0.17955594 0.18173505 0.18382254\n",
      " 0.18583572 0.18778712 0.18968464 0.19153279]\n",
      "11 day output [[0.19333439]]\n",
      "12 day input [0.14808007 0.15910948 0.15992647 0.15788399 0.16441993 0.17892157\n",
      " 0.17933007 0.19260621 0.20812908 0.18974673 0.18055556 0.18239379\n",
      " 0.17708333 0.17810458 0.18055556 0.17810458 0.17851307 0.19607843\n",
      " 0.18913399 0.18954248 0.19403595 0.19444444 0.20200163 0.19771242\n",
      " 0.19934641 0.19873366 0.1997549  0.2128268  0.21568627 0.20445261\n",
      " 0.21772876 0.21098856 0.21425654 0.19750817 0.18811275 0.17851307\n",
      " 0.17381536 0.16033497 0.16564542 0.17116013 0.17422386 0.18035131\n",
      " 0.17401961 0.16278595 0.16973039 0.17810458 0.17034314 0.16830065\n",
      " 0.17279412 0.17544935 0.18382353 0.19138072 0.18913399 0.19097222\n",
      " 0.17238562 0.16830065 0.1693219  0.17177288 0.16156046 0.14971405\n",
      " 0.1503268  0.15196078 0.14726307 0.14501634 0.14603758 0.12479575\n",
      " 0.13112745 0.11397059 0.1190768  0.12377451 0.13562092 0.12908497\n",
      " 0.13459967 0.12806373 0.13031046 0.12724673 0.13521242 0.14522059\n",
      " 0.15257353 0.14848856 0.14338235 0.14562908 0.15236928 0.15400327\n",
      " 0.14971405 0.1621732  0.16319444 0.16584967 0.16905901 0.172143\n",
      " 0.17481759 0.17726216 0.17955594 0.18173505 0.18382254 0.18583572\n",
      " 0.18778712 0.18968464 0.19153279 0.19333439]\n",
      "12 day output [[0.19509144]]\n",
      "13 day input [0.15910948 0.15992647 0.15788399 0.16441993 0.17892157 0.17933007\n",
      " 0.19260621 0.20812908 0.18974673 0.18055556 0.18239379 0.17708333\n",
      " 0.17810458 0.18055556 0.17810458 0.17851307 0.19607843 0.18913399\n",
      " 0.18954248 0.19403595 0.19444444 0.20200163 0.19771242 0.19934641\n",
      " 0.19873366 0.1997549  0.2128268  0.21568627 0.20445261 0.21772876\n",
      " 0.21098856 0.21425654 0.19750817 0.18811275 0.17851307 0.17381536\n",
      " 0.16033497 0.16564542 0.17116013 0.17422386 0.18035131 0.17401961\n",
      " 0.16278595 0.16973039 0.17810458 0.17034314 0.16830065 0.17279412\n",
      " 0.17544935 0.18382353 0.19138072 0.18913399 0.19097222 0.17238562\n",
      " 0.16830065 0.1693219  0.17177288 0.16156046 0.14971405 0.1503268\n",
      " 0.15196078 0.14726307 0.14501634 0.14603758 0.12479575 0.13112745\n",
      " 0.11397059 0.1190768  0.12377451 0.13562092 0.12908497 0.13459967\n",
      " 0.12806373 0.13031046 0.12724673 0.13521242 0.14522059 0.15257353\n",
      " 0.14848856 0.14338235 0.14562908 0.15236928 0.15400327 0.14971405\n",
      " 0.1621732  0.16319444 0.16584967 0.16905901 0.172143   0.17481759\n",
      " 0.17726216 0.17955594 0.18173505 0.18382254 0.18583572 0.18778712\n",
      " 0.18968464 0.19153279 0.19333439 0.19509144]\n",
      "13 day output [[0.1968062]]\n",
      "14 day input [0.15992647 0.15788399 0.16441993 0.17892157 0.17933007 0.19260621\n",
      " 0.20812908 0.18974673 0.18055556 0.18239379 0.17708333 0.17810458\n",
      " 0.18055556 0.17810458 0.17851307 0.19607843 0.18913399 0.18954248\n",
      " 0.19403595 0.19444444 0.20200163 0.19771242 0.19934641 0.19873366\n",
      " 0.1997549  0.2128268  0.21568627 0.20445261 0.21772876 0.21098856\n",
      " 0.21425654 0.19750817 0.18811275 0.17851307 0.17381536 0.16033497\n",
      " 0.16564542 0.17116013 0.17422386 0.18035131 0.17401961 0.16278595\n",
      " 0.16973039 0.17810458 0.17034314 0.16830065 0.17279412 0.17544935\n",
      " 0.18382353 0.19138072 0.18913399 0.19097222 0.17238562 0.16830065\n",
      " 0.1693219  0.17177288 0.16156046 0.14971405 0.1503268  0.15196078\n",
      " 0.14726307 0.14501634 0.14603758 0.12479575 0.13112745 0.11397059\n",
      " 0.1190768  0.12377451 0.13562092 0.12908497 0.13459967 0.12806373\n",
      " 0.13031046 0.12724673 0.13521242 0.14522059 0.15257353 0.14848856\n",
      " 0.14338235 0.14562908 0.15236928 0.15400327 0.14971405 0.1621732\n",
      " 0.16319444 0.16584967 0.16905901 0.172143   0.17481759 0.17726216\n",
      " 0.17955594 0.18173505 0.18382254 0.18583572 0.18778712 0.18968464\n",
      " 0.19153279 0.19333439 0.19509144 0.19680621]\n",
      "14 day output [[0.19848165]]\n",
      "15 day input [0.15788399 0.16441993 0.17892157 0.17933007 0.19260621 0.20812908\n",
      " 0.18974673 0.18055556 0.18239379 0.17708333 0.17810458 0.18055556\n",
      " 0.17810458 0.17851307 0.19607843 0.18913399 0.18954248 0.19403595\n",
      " 0.19444444 0.20200163 0.19771242 0.19934641 0.19873366 0.1997549\n",
      " 0.2128268  0.21568627 0.20445261 0.21772876 0.21098856 0.21425654\n",
      " 0.19750817 0.18811275 0.17851307 0.17381536 0.16033497 0.16564542\n",
      " 0.17116013 0.17422386 0.18035131 0.17401961 0.16278595 0.16973039\n",
      " 0.17810458 0.17034314 0.16830065 0.17279412 0.17544935 0.18382353\n",
      " 0.19138072 0.18913399 0.19097222 0.17238562 0.16830065 0.1693219\n",
      " 0.17177288 0.16156046 0.14971405 0.1503268  0.15196078 0.14726307\n",
      " 0.14501634 0.14603758 0.12479575 0.13112745 0.11397059 0.1190768\n",
      " 0.12377451 0.13562092 0.12908497 0.13459967 0.12806373 0.13031046\n",
      " 0.12724673 0.13521242 0.14522059 0.15257353 0.14848856 0.14338235\n",
      " 0.14562908 0.15236928 0.15400327 0.14971405 0.1621732  0.16319444\n",
      " 0.16584967 0.16905901 0.172143   0.17481759 0.17726216 0.17955594\n",
      " 0.18173505 0.18382254 0.18583572 0.18778712 0.18968464 0.19153279\n",
      " 0.19333439 0.19509144 0.19680621 0.19848165]\n",
      "15 day output [[0.20012102]]\n",
      "16 day input [0.16441993 0.17892157 0.17933007 0.19260621 0.20812908 0.18974673\n",
      " 0.18055556 0.18239379 0.17708333 0.17810458 0.18055556 0.17810458\n",
      " 0.17851307 0.19607843 0.18913399 0.18954248 0.19403595 0.19444444\n",
      " 0.20200163 0.19771242 0.19934641 0.19873366 0.1997549  0.2128268\n",
      " 0.21568627 0.20445261 0.21772876 0.21098856 0.21425654 0.19750817\n",
      " 0.18811275 0.17851307 0.17381536 0.16033497 0.16564542 0.17116013\n",
      " 0.17422386 0.18035131 0.17401961 0.16278595 0.16973039 0.17810458\n",
      " 0.17034314 0.16830065 0.17279412 0.17544935 0.18382353 0.19138072\n",
      " 0.18913399 0.19097222 0.17238562 0.16830065 0.1693219  0.17177288\n",
      " 0.16156046 0.14971405 0.1503268  0.15196078 0.14726307 0.14501634\n",
      " 0.14603758 0.12479575 0.13112745 0.11397059 0.1190768  0.12377451\n",
      " 0.13562092 0.12908497 0.13459967 0.12806373 0.13031046 0.12724673\n",
      " 0.13521242 0.14522059 0.15257353 0.14848856 0.14338235 0.14562908\n",
      " 0.15236928 0.15400327 0.14971405 0.1621732  0.16319444 0.16584967\n",
      " 0.16905901 0.172143   0.17481759 0.17726216 0.17955594 0.18173505\n",
      " 0.18382254 0.18583572 0.18778712 0.18968464 0.19153279 0.19333439\n",
      " 0.19509144 0.19680621 0.19848165 0.20012102]\n",
      "16 day output [[0.20172833]]\n",
      "17 day input [0.17892157 0.17933007 0.19260621 0.20812908 0.18974673 0.18055556\n",
      " 0.18239379 0.17708333 0.17810458 0.18055556 0.17810458 0.17851307\n",
      " 0.19607843 0.18913399 0.18954248 0.19403595 0.19444444 0.20200163\n",
      " 0.19771242 0.19934641 0.19873366 0.1997549  0.2128268  0.21568627\n",
      " 0.20445261 0.21772876 0.21098856 0.21425654 0.19750817 0.18811275\n",
      " 0.17851307 0.17381536 0.16033497 0.16564542 0.17116013 0.17422386\n",
      " 0.18035131 0.17401961 0.16278595 0.16973039 0.17810458 0.17034314\n",
      " 0.16830065 0.17279412 0.17544935 0.18382353 0.19138072 0.18913399\n",
      " 0.19097222 0.17238562 0.16830065 0.1693219  0.17177288 0.16156046\n",
      " 0.14971405 0.1503268  0.15196078 0.14726307 0.14501634 0.14603758\n",
      " 0.12479575 0.13112745 0.11397059 0.1190768  0.12377451 0.13562092\n",
      " 0.12908497 0.13459967 0.12806373 0.13031046 0.12724673 0.13521242\n",
      " 0.14522059 0.15257353 0.14848856 0.14338235 0.14562908 0.15236928\n",
      " 0.15400327 0.14971405 0.1621732  0.16319444 0.16584967 0.16905901\n",
      " 0.172143   0.17481759 0.17726216 0.17955594 0.18173505 0.18382254\n",
      " 0.18583572 0.18778712 0.18968464 0.19153279 0.19333439 0.19509144\n",
      " 0.19680621 0.19848165 0.20012102 0.20172833]\n"
     ]
    },
    {
     "name": "stdout",
     "output_type": "stream",
     "text": [
      "17 day output [[0.20330745]]\n",
      "18 day input [0.17933007 0.19260621 0.20812908 0.18974673 0.18055556 0.18239379\n",
      " 0.17708333 0.17810458 0.18055556 0.17810458 0.17851307 0.19607843\n",
      " 0.18913399 0.18954248 0.19403595 0.19444444 0.20200163 0.19771242\n",
      " 0.19934641 0.19873366 0.1997549  0.2128268  0.21568627 0.20445261\n",
      " 0.21772876 0.21098856 0.21425654 0.19750817 0.18811275 0.17851307\n",
      " 0.17381536 0.16033497 0.16564542 0.17116013 0.17422386 0.18035131\n",
      " 0.17401961 0.16278595 0.16973039 0.17810458 0.17034314 0.16830065\n",
      " 0.17279412 0.17544935 0.18382353 0.19138072 0.18913399 0.19097222\n",
      " 0.17238562 0.16830065 0.1693219  0.17177288 0.16156046 0.14971405\n",
      " 0.1503268  0.15196078 0.14726307 0.14501634 0.14603758 0.12479575\n",
      " 0.13112745 0.11397059 0.1190768  0.12377451 0.13562092 0.12908497\n",
      " 0.13459967 0.12806373 0.13031046 0.12724673 0.13521242 0.14522059\n",
      " 0.15257353 0.14848856 0.14338235 0.14562908 0.15236928 0.15400327\n",
      " 0.14971405 0.1621732  0.16319444 0.16584967 0.16905901 0.172143\n",
      " 0.17481759 0.17726216 0.17955594 0.18173505 0.18382254 0.18583572\n",
      " 0.18778712 0.18968464 0.19153279 0.19333439 0.19509144 0.19680621\n",
      " 0.19848165 0.20012102 0.20172833 0.20330745]\n",
      "18 day output [[0.20486239]]\n",
      "19 day input [0.19260621 0.20812908 0.18974673 0.18055556 0.18239379 0.17708333\n",
      " 0.17810458 0.18055556 0.17810458 0.17851307 0.19607843 0.18913399\n",
      " 0.18954248 0.19403595 0.19444444 0.20200163 0.19771242 0.19934641\n",
      " 0.19873366 0.1997549  0.2128268  0.21568627 0.20445261 0.21772876\n",
      " 0.21098856 0.21425654 0.19750817 0.18811275 0.17851307 0.17381536\n",
      " 0.16033497 0.16564542 0.17116013 0.17422386 0.18035131 0.17401961\n",
      " 0.16278595 0.16973039 0.17810458 0.17034314 0.16830065 0.17279412\n",
      " 0.17544935 0.18382353 0.19138072 0.18913399 0.19097222 0.17238562\n",
      " 0.16830065 0.1693219  0.17177288 0.16156046 0.14971405 0.1503268\n",
      " 0.15196078 0.14726307 0.14501634 0.14603758 0.12479575 0.13112745\n",
      " 0.11397059 0.1190768  0.12377451 0.13562092 0.12908497 0.13459967\n",
      " 0.12806373 0.13031046 0.12724673 0.13521242 0.14522059 0.15257353\n",
      " 0.14848856 0.14338235 0.14562908 0.15236928 0.15400327 0.14971405\n",
      " 0.1621732  0.16319444 0.16584967 0.16905901 0.172143   0.17481759\n",
      " 0.17726216 0.17955594 0.18173505 0.18382254 0.18583572 0.18778712\n",
      " 0.18968464 0.19153279 0.19333439 0.19509144 0.19680621 0.19848165\n",
      " 0.20012102 0.20172833 0.20330745 0.20486239]\n",
      "19 day output [[0.2063965]]\n",
      "20 day input [0.20812908 0.18974673 0.18055556 0.18239379 0.17708333 0.17810458\n",
      " 0.18055556 0.17810458 0.17851307 0.19607843 0.18913399 0.18954248\n",
      " 0.19403595 0.19444444 0.20200163 0.19771242 0.19934641 0.19873366\n",
      " 0.1997549  0.2128268  0.21568627 0.20445261 0.21772876 0.21098856\n",
      " 0.21425654 0.19750817 0.18811275 0.17851307 0.17381536 0.16033497\n",
      " 0.16564542 0.17116013 0.17422386 0.18035131 0.17401961 0.16278595\n",
      " 0.16973039 0.17810458 0.17034314 0.16830065 0.17279412 0.17544935\n",
      " 0.18382353 0.19138072 0.18913399 0.19097222 0.17238562 0.16830065\n",
      " 0.1693219  0.17177288 0.16156046 0.14971405 0.1503268  0.15196078\n",
      " 0.14726307 0.14501634 0.14603758 0.12479575 0.13112745 0.11397059\n",
      " 0.1190768  0.12377451 0.13562092 0.12908497 0.13459967 0.12806373\n",
      " 0.13031046 0.12724673 0.13521242 0.14522059 0.15257353 0.14848856\n",
      " 0.14338235 0.14562908 0.15236928 0.15400327 0.14971405 0.1621732\n",
      " 0.16319444 0.16584967 0.16905901 0.172143   0.17481759 0.17726216\n",
      " 0.17955594 0.18173505 0.18382254 0.18583572 0.18778712 0.18968464\n",
      " 0.19153279 0.19333439 0.19509144 0.19680621 0.19848165 0.20012102\n",
      " 0.20172833 0.20330745 0.20486239 0.20639651]\n",
      "20 day output [[0.20791298]]\n",
      "21 day input [0.18974673 0.18055556 0.18239379 0.17708333 0.17810458 0.18055556\n",
      " 0.17810458 0.17851307 0.19607843 0.18913399 0.18954248 0.19403595\n",
      " 0.19444444 0.20200163 0.19771242 0.19934641 0.19873366 0.1997549\n",
      " 0.2128268  0.21568627 0.20445261 0.21772876 0.21098856 0.21425654\n",
      " 0.19750817 0.18811275 0.17851307 0.17381536 0.16033497 0.16564542\n",
      " 0.17116013 0.17422386 0.18035131 0.17401961 0.16278595 0.16973039\n",
      " 0.17810458 0.17034314 0.16830065 0.17279412 0.17544935 0.18382353\n",
      " 0.19138072 0.18913399 0.19097222 0.17238562 0.16830065 0.1693219\n",
      " 0.17177288 0.16156046 0.14971405 0.1503268  0.15196078 0.14726307\n",
      " 0.14501634 0.14603758 0.12479575 0.13112745 0.11397059 0.1190768\n",
      " 0.12377451 0.13562092 0.12908497 0.13459967 0.12806373 0.13031046\n",
      " 0.12724673 0.13521242 0.14522059 0.15257353 0.14848856 0.14338235\n",
      " 0.14562908 0.15236928 0.15400327 0.14971405 0.1621732  0.16319444\n",
      " 0.16584967 0.16905901 0.172143   0.17481759 0.17726216 0.17955594\n",
      " 0.18173505 0.18382254 0.18583572 0.18778712 0.18968464 0.19153279\n",
      " 0.19333439 0.19509144 0.19680621 0.19848165 0.20012102 0.20172833\n",
      " 0.20330745 0.20486239 0.20639651 0.20791298]\n",
      "21 day output [[0.20941418]]\n",
      "22 day input [0.18055556 0.18239379 0.17708333 0.17810458 0.18055556 0.17810458\n",
      " 0.17851307 0.19607843 0.18913399 0.18954248 0.19403595 0.19444444\n",
      " 0.20200163 0.19771242 0.19934641 0.19873366 0.1997549  0.2128268\n",
      " 0.21568627 0.20445261 0.21772876 0.21098856 0.21425654 0.19750817\n",
      " 0.18811275 0.17851307 0.17381536 0.16033497 0.16564542 0.17116013\n",
      " 0.17422386 0.18035131 0.17401961 0.16278595 0.16973039 0.17810458\n",
      " 0.17034314 0.16830065 0.17279412 0.17544935 0.18382353 0.19138072\n",
      " 0.18913399 0.19097222 0.17238562 0.16830065 0.1693219  0.17177288\n",
      " 0.16156046 0.14971405 0.1503268  0.15196078 0.14726307 0.14501634\n",
      " 0.14603758 0.12479575 0.13112745 0.11397059 0.1190768  0.12377451\n",
      " 0.13562092 0.12908497 0.13459967 0.12806373 0.13031046 0.12724673\n",
      " 0.13521242 0.14522059 0.15257353 0.14848856 0.14338235 0.14562908\n",
      " 0.15236928 0.15400327 0.14971405 0.1621732  0.16319444 0.16584967\n",
      " 0.16905901 0.172143   0.17481759 0.17726216 0.17955594 0.18173505\n",
      " 0.18382254 0.18583572 0.18778712 0.18968464 0.19153279 0.19333439\n",
      " 0.19509144 0.19680621 0.19848165 0.20012102 0.20172833 0.20330745\n",
      " 0.20486239 0.20639651 0.20791298 0.20941418]\n",
      "22 day output [[0.21090214]]\n",
      "23 day input [0.18239379 0.17708333 0.17810458 0.18055556 0.17810458 0.17851307\n",
      " 0.19607843 0.18913399 0.18954248 0.19403595 0.19444444 0.20200163\n",
      " 0.19771242 0.19934641 0.19873366 0.1997549  0.2128268  0.21568627\n",
      " 0.20445261 0.21772876 0.21098856 0.21425654 0.19750817 0.18811275\n",
      " 0.17851307 0.17381536 0.16033497 0.16564542 0.17116013 0.17422386\n",
      " 0.18035131 0.17401961 0.16278595 0.16973039 0.17810458 0.17034314\n",
      " 0.16830065 0.17279412 0.17544935 0.18382353 0.19138072 0.18913399\n",
      " 0.19097222 0.17238562 0.16830065 0.1693219  0.17177288 0.16156046\n",
      " 0.14971405 0.1503268  0.15196078 0.14726307 0.14501634 0.14603758\n",
      " 0.12479575 0.13112745 0.11397059 0.1190768  0.12377451 0.13562092\n",
      " 0.12908497 0.13459967 0.12806373 0.13031046 0.12724673 0.13521242\n",
      " 0.14522059 0.15257353 0.14848856 0.14338235 0.14562908 0.15236928\n",
      " 0.15400327 0.14971405 0.1621732  0.16319444 0.16584967 0.16905901\n",
      " 0.172143   0.17481759 0.17726216 0.17955594 0.18173505 0.18382254\n",
      " 0.18583572 0.18778712 0.18968464 0.19153279 0.19333439 0.19509144\n",
      " 0.19680621 0.19848165 0.20012102 0.20172833 0.20330745 0.20486239\n",
      " 0.20639651 0.20791298 0.20941418 0.21090214]\n",
      "23 day output [[0.21237803]]\n",
      "24 day input [0.17708333 0.17810458 0.18055556 0.17810458 0.17851307 0.19607843\n",
      " 0.18913399 0.18954248 0.19403595 0.19444444 0.20200163 0.19771242\n",
      " 0.19934641 0.19873366 0.1997549  0.2128268  0.21568627 0.20445261\n",
      " 0.21772876 0.21098856 0.21425654 0.19750817 0.18811275 0.17851307\n",
      " 0.17381536 0.16033497 0.16564542 0.17116013 0.17422386 0.18035131\n",
      " 0.17401961 0.16278595 0.16973039 0.17810458 0.17034314 0.16830065\n",
      " 0.17279412 0.17544935 0.18382353 0.19138072 0.18913399 0.19097222\n",
      " 0.17238562 0.16830065 0.1693219  0.17177288 0.16156046 0.14971405\n",
      " 0.1503268  0.15196078 0.14726307 0.14501634 0.14603758 0.12479575\n",
      " 0.13112745 0.11397059 0.1190768  0.12377451 0.13562092 0.12908497\n",
      " 0.13459967 0.12806373 0.13031046 0.12724673 0.13521242 0.14522059\n",
      " 0.15257353 0.14848856 0.14338235 0.14562908 0.15236928 0.15400327\n",
      " 0.14971405 0.1621732  0.16319444 0.16584967 0.16905901 0.172143\n",
      " 0.17481759 0.17726216 0.17955594 0.18173505 0.18382254 0.18583572\n",
      " 0.18778712 0.18968464 0.19153279 0.19333439 0.19509144 0.19680621\n",
      " 0.19848165 0.20012102 0.20172833 0.20330745 0.20486239 0.20639651\n",
      " 0.20791298 0.20941418 0.21090214 0.21237803]\n",
      "24 day output [[0.21384296]]\n",
      "25 day input [0.17810458 0.18055556 0.17810458 0.17851307 0.19607843 0.18913399\n",
      " 0.18954248 0.19403595 0.19444444 0.20200163 0.19771242 0.19934641\n",
      " 0.19873366 0.1997549  0.2128268  0.21568627 0.20445261 0.21772876\n",
      " 0.21098856 0.21425654 0.19750817 0.18811275 0.17851307 0.17381536\n",
      " 0.16033497 0.16564542 0.17116013 0.17422386 0.18035131 0.17401961\n",
      " 0.16278595 0.16973039 0.17810458 0.17034314 0.16830065 0.17279412\n",
      " 0.17544935 0.18382353 0.19138072 0.18913399 0.19097222 0.17238562\n",
      " 0.16830065 0.1693219  0.17177288 0.16156046 0.14971405 0.1503268\n",
      " 0.15196078 0.14726307 0.14501634 0.14603758 0.12479575 0.13112745\n",
      " 0.11397059 0.1190768  0.12377451 0.13562092 0.12908497 0.13459967\n",
      " 0.12806373 0.13031046 0.12724673 0.13521242 0.14522059 0.15257353\n",
      " 0.14848856 0.14338235 0.14562908 0.15236928 0.15400327 0.14971405\n",
      " 0.1621732  0.16319444 0.16584967 0.16905901 0.172143   0.17481759\n",
      " 0.17726216 0.17955594 0.18173505 0.18382254 0.18583572 0.18778712\n",
      " 0.18968464 0.19153279 0.19333439 0.19509144 0.19680621 0.19848165\n",
      " 0.20012102 0.20172833 0.20330745 0.20486239 0.20639651 0.20791298\n",
      " 0.20941418 0.21090214 0.21237803 0.21384296]\n",
      "25 day output [[0.2152975]]\n",
      "26 day input [0.18055556 0.17810458 0.17851307 0.19607843 0.18913399 0.18954248\n",
      " 0.19403595 0.19444444 0.20200163 0.19771242 0.19934641 0.19873366\n",
      " 0.1997549  0.2128268  0.21568627 0.20445261 0.21772876 0.21098856\n",
      " 0.21425654 0.19750817 0.18811275 0.17851307 0.17381536 0.16033497\n",
      " 0.16564542 0.17116013 0.17422386 0.18035131 0.17401961 0.16278595\n",
      " 0.16973039 0.17810458 0.17034314 0.16830065 0.17279412 0.17544935\n",
      " 0.18382353 0.19138072 0.18913399 0.19097222 0.17238562 0.16830065\n",
      " 0.1693219  0.17177288 0.16156046 0.14971405 0.1503268  0.15196078\n",
      " 0.14726307 0.14501634 0.14603758 0.12479575 0.13112745 0.11397059\n",
      " 0.1190768  0.12377451 0.13562092 0.12908497 0.13459967 0.12806373\n",
      " 0.13031046 0.12724673 0.13521242 0.14522059 0.15257353 0.14848856\n",
      " 0.14338235 0.14562908 0.15236928 0.15400327 0.14971405 0.1621732\n",
      " 0.16319444 0.16584967 0.16905901 0.172143   0.17481759 0.17726216\n",
      " 0.17955594 0.18173505 0.18382254 0.18583572 0.18778712 0.18968464\n",
      " 0.19153279 0.19333439 0.19509144 0.19680621 0.19848165 0.20012102\n",
      " 0.20172833 0.20330745 0.20486239 0.20639651 0.20791298 0.20941418\n",
      " 0.21090214 0.21237803 0.21384296 0.21529751]\n"
     ]
    },
    {
     "name": "stdout",
     "output_type": "stream",
     "text": [
      "26 day output [[0.21674179]]\n",
      "27 day input [0.17810458 0.17851307 0.19607843 0.18913399 0.18954248 0.19403595\n",
      " 0.19444444 0.20200163 0.19771242 0.19934641 0.19873366 0.1997549\n",
      " 0.2128268  0.21568627 0.20445261 0.21772876 0.21098856 0.21425654\n",
      " 0.19750817 0.18811275 0.17851307 0.17381536 0.16033497 0.16564542\n",
      " 0.17116013 0.17422386 0.18035131 0.17401961 0.16278595 0.16973039\n",
      " 0.17810458 0.17034314 0.16830065 0.17279412 0.17544935 0.18382353\n",
      " 0.19138072 0.18913399 0.19097222 0.17238562 0.16830065 0.1693219\n",
      " 0.17177288 0.16156046 0.14971405 0.1503268  0.15196078 0.14726307\n",
      " 0.14501634 0.14603758 0.12479575 0.13112745 0.11397059 0.1190768\n",
      " 0.12377451 0.13562092 0.12908497 0.13459967 0.12806373 0.13031046\n",
      " 0.12724673 0.13521242 0.14522059 0.15257353 0.14848856 0.14338235\n",
      " 0.14562908 0.15236928 0.15400327 0.14971405 0.1621732  0.16319444\n",
      " 0.16584967 0.16905901 0.172143   0.17481759 0.17726216 0.17955594\n",
      " 0.18173505 0.18382254 0.18583572 0.18778712 0.18968464 0.19153279\n",
      " 0.19333439 0.19509144 0.19680621 0.19848165 0.20012102 0.20172833\n",
      " 0.20330745 0.20486239 0.20639651 0.20791298 0.20941418 0.21090214\n",
      " 0.21237803 0.21384296 0.21529751 0.21674179]\n",
      "27 day output [[0.2181761]]\n",
      "28 day input [0.17851307 0.19607843 0.18913399 0.18954248 0.19403595 0.19444444\n",
      " 0.20200163 0.19771242 0.19934641 0.19873366 0.1997549  0.2128268\n",
      " 0.21568627 0.20445261 0.21772876 0.21098856 0.21425654 0.19750817\n",
      " 0.18811275 0.17851307 0.17381536 0.16033497 0.16564542 0.17116013\n",
      " 0.17422386 0.18035131 0.17401961 0.16278595 0.16973039 0.17810458\n",
      " 0.17034314 0.16830065 0.17279412 0.17544935 0.18382353 0.19138072\n",
      " 0.18913399 0.19097222 0.17238562 0.16830065 0.1693219  0.17177288\n",
      " 0.16156046 0.14971405 0.1503268  0.15196078 0.14726307 0.14501634\n",
      " 0.14603758 0.12479575 0.13112745 0.11397059 0.1190768  0.12377451\n",
      " 0.13562092 0.12908497 0.13459967 0.12806373 0.13031046 0.12724673\n",
      " 0.13521242 0.14522059 0.15257353 0.14848856 0.14338235 0.14562908\n",
      " 0.15236928 0.15400327 0.14971405 0.1621732  0.16319444 0.16584967\n",
      " 0.16905901 0.172143   0.17481759 0.17726216 0.17955594 0.18173505\n",
      " 0.18382254 0.18583572 0.18778712 0.18968464 0.19153279 0.19333439\n",
      " 0.19509144 0.19680621 0.19848165 0.20012102 0.20172833 0.20330745\n",
      " 0.20486239 0.20639651 0.20791298 0.20941418 0.21090214 0.21237803\n",
      " 0.21384296 0.21529751 0.21674179 0.2181761 ]\n",
      "28 day output [[0.21960036]]\n",
      "29 day input [0.19607843 0.18913399 0.18954248 0.19403595 0.19444444 0.20200163\n",
      " 0.19771242 0.19934641 0.19873366 0.1997549  0.2128268  0.21568627\n",
      " 0.20445261 0.21772876 0.21098856 0.21425654 0.19750817 0.18811275\n",
      " 0.17851307 0.17381536 0.16033497 0.16564542 0.17116013 0.17422386\n",
      " 0.18035131 0.17401961 0.16278595 0.16973039 0.17810458 0.17034314\n",
      " 0.16830065 0.17279412 0.17544935 0.18382353 0.19138072 0.18913399\n",
      " 0.19097222 0.17238562 0.16830065 0.1693219  0.17177288 0.16156046\n",
      " 0.14971405 0.1503268  0.15196078 0.14726307 0.14501634 0.14603758\n",
      " 0.12479575 0.13112745 0.11397059 0.1190768  0.12377451 0.13562092\n",
      " 0.12908497 0.13459967 0.12806373 0.13031046 0.12724673 0.13521242\n",
      " 0.14522059 0.15257353 0.14848856 0.14338235 0.14562908 0.15236928\n",
      " 0.15400327 0.14971405 0.1621732  0.16319444 0.16584967 0.16905901\n",
      " 0.172143   0.17481759 0.17726216 0.17955594 0.18173505 0.18382254\n",
      " 0.18583572 0.18778712 0.18968464 0.19153279 0.19333439 0.19509144\n",
      " 0.19680621 0.19848165 0.20012102 0.20172833 0.20330745 0.20486239\n",
      " 0.20639651 0.20791298 0.20941418 0.21090214 0.21237803 0.21384296\n",
      " 0.21529751 0.21674179 0.2181761  0.21960036]\n",
      "29 day output [[0.22101441]]\n",
      "[[0.16905900835990906], [0.17214299738407135], [0.17481759190559387], [0.17726215720176697], [0.17955593764781952], [0.1817350536584854], [0.18382254242897034], [0.18583571910858154], [0.18778711557388306], [0.1896846443414688], [0.19153279066085815], [0.19333438575267792], [0.19509144127368927], [0.19680620729923248], [0.19848164916038513], [0.20012101531028748], [0.20172832906246185], [0.20330744981765747], [0.20486238598823547], [0.20639650523662567], [0.20791298151016235], [0.20941418409347534], [0.210902139544487], [0.21237802505493164], [0.2138429582118988], [0.21529750525951385], [0.21674178540706635], [0.21817609667778015], [0.2196003645658493], [0.22101441025733948]]\n"
     ]
    }
   ],
   "source": [
    "from numpy import array\n",
    "\n",
    "lst_output=[]\n",
    "n_steps=100\n",
    "i=0\n",
    "while(i<30):\n",
    "    \n",
    "    if(len(temp_input)>100):\n",
    "        #print(temp_input)\n",
    "        x_input=np.array(temp_input[1:])\n",
    "        print(\"{} day input {}\".format(i,x_input))\n",
    "        x_input=x_input.reshape(1,-1)\n",
    "        x_input = x_input.reshape((1, n_steps, 1))\n",
    "        #print(x_input)\n",
    "        yhat = model.predict(x_input, verbose=0)\n",
    "        print(\"{} day output {}\".format(i,yhat))\n",
    "        temp_input.extend(yhat[0].tolist())\n",
    "        temp_input=temp_input[1:]\n",
    "        #print(temp_input)\n",
    "        lst_output.extend(yhat.tolist())\n",
    "        i=i+1\n",
    "    else:\n",
    "        x_input = x_input.reshape((1, n_steps,1))\n",
    "        yhat = model.predict(x_input, verbose=0)\n",
    "        print(yhat[0])\n",
    "        temp_input.extend(yhat[0].tolist())\n",
    "        print(len(temp_input))\n",
    "        lst_output.extend(yhat.tolist())\n",
    "        i=i+1\n",
    "    \n",
    "\n",
    "print(lst_output)"
   ]
  },
  {
   "cell_type": "code",
   "execution_count": 59,
   "id": "fdf248e6",
   "metadata": {},
   "outputs": [],
   "source": [
    "day_new=np.arange(1,101)\n",
    "day_pred=np.arange(101,131)"
   ]
  },
  {
   "cell_type": "code",
   "execution_count": 60,
   "id": "9fe14f3b",
   "metadata": {},
   "outputs": [
    {
     "data": {
      "text/plain": [
       "2035"
      ]
     },
     "execution_count": 60,
     "metadata": {},
     "output_type": "execute_result"
    }
   ],
   "source": [
    "len(df1)"
   ]
  },
  {
   "cell_type": "code",
   "execution_count": 62,
   "id": "6ce20014",
   "metadata": {},
   "outputs": [],
   "source": [
    "import matplotlib.pyplot as plt"
   ]
  },
  {
   "cell_type": "code",
   "execution_count": 64,
   "id": "bc8d6f72",
   "metadata": {
    "scrolled": true
   },
   "outputs": [
    {
     "data": {
      "text/plain": [
       "[<matplotlib.lines.Line2D at 0x19d088f07f0>]"
      ]
     },
     "execution_count": 64,
     "metadata": {},
     "output_type": "execute_result"
    },
    {
     "data": {
      "image/png": "[encoded data removed]",
      "text/plain": [
       "<Figure size 640x480 with 1 Axes>"
      ]
     },
     "metadata": {},
     "output_type": "display_data"
    }
   ],
   "source": [
    "plt.plot(day_new,scaler.inverse_transform(df1[1935:]))\n",
    "plt.plot(day_pred,scaler.inverse_transform(lst_output))"
   ]
  },
  {
   "cell_type": "code",
   "execution_count": 65,
   "id": "e986189a",
   "metadata": {},
   "outputs": [
    {
     "data": {
      "text/plain": [
       "[<matplotlib.lines.Line2D at 0x19d08982560>]"
      ]
     },
     "execution_count": 65,
     "metadata": {},
     "output_type": "execute_result"
    },
    {
     "data": {
      "image/png": "[encoded data removed]",
      "text/plain": [
       "<Figure size 640x480 with 1 Axes>"
      ]
     },
     "metadata": {},
     "output_type": "display_data"
    }
   ],
   "source": [
    "df3=df1.tolist()\n",
    "df3.extend(lst_output)\n",
    "plt.plot(df3[1200:])"
   ]
  },
  {
   "cell_type": "code",
   "execution_count": 66,
   "id": "949addaf",
   "metadata": {},
   "outputs": [
    {
     "data": {
      "text/plain": [
       "[<matplotlib.lines.Line2D at 0x19d08a0c160>]"
      ]
     },
     "execution_count": 66,
     "metadata": {},
     "output_type": "execute_result"
    },
    {
     "data": {
      "image/png": "[encoded data removed]",
      "text/plain": [
       "<Figure size 640x480 with 1 Axes>"
      ]
     },
     "metadata": {},
     "output_type": "display_data"
    }
   ],
   "source": [
    "df3=scaler.inverse_transform(df3).tolist()\n",
    "plt.plot(df3)"
   ]
  },
  {
   "cell_type": "markdown",
   "id": "49ffa373",
   "metadata": {},
   "source": [
    "# Thank You !!!"
   ]
  }
 ],
 "metadata": {
  "kernelspec": {
   "display_name": "Python 3 (ipykernel)",
   "language": "python",
   "name": "python3"
  },
  "language_info": {
   "codemirror_mode": {
    "name": "ipython",
    "version": 3
   },
   "file_extension": ".py",
   "mimetype": "text/x-python",
   "name": "python",
   "nbconvert_exporter": "python",
   "pygments_lexer": "ipython3",
   "version": "3.9.13"
  }
 },
 "nbformat": 4,
 "nbformat_minor": 5
}
